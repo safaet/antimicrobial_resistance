{
 "cells": [
  {
   "cell_type": "code",
   "execution_count": 3,
   "id": "e0aa1480-b059-4092-9418-34585fd38daf",
   "metadata": {},
   "outputs": [
    {
     "name": "stdout",
     "output_type": "stream",
     "text": [
      "Requirement already satisfied: numpy in /home/safaet/jupyter/jup_notebook/lib/python3.12/site-packages (2.1.2)\n",
      "Note: you may need to restart the kernel to use updated packages.\n"
     ]
    }
   ],
   "source": [
    "pip install numpy"
   ]
  },
  {
   "cell_type": "code",
   "execution_count": 4,
   "id": "5f24c14b-fbc1-4a9c-94ba-7f91b2e608c5",
   "metadata": {},
   "outputs": [
    {
     "ename": "ModuleNotFoundError",
     "evalue": "No module named 'sklearn'",
     "output_type": "error",
     "traceback": [
      "\u001b[0;31m---------------------------------------------------------------------------\u001b[0m",
      "\u001b[0;31mModuleNotFoundError\u001b[0m                       Traceback (most recent call last)",
      "Cell \u001b[0;32mIn[4], line 2\u001b[0m\n\u001b[1;32m      1\u001b[0m \u001b[38;5;28;01mimport\u001b[39;00m \u001b[38;5;21;01mnumpy\u001b[39;00m \u001b[38;5;28;01mas\u001b[39;00m \u001b[38;5;21;01mnp\u001b[39;00m\n\u001b[0;32m----> 2\u001b[0m \u001b[38;5;28;01mfrom\u001b[39;00m \u001b[38;5;21;01msklearn\u001b[39;00m\u001b[38;5;21;01m.\u001b[39;00m\u001b[38;5;21;01mensemble\u001b[39;00m \u001b[38;5;28;01mimport\u001b[39;00m RandomForestClassifier, VotingClassifier\n\u001b[1;32m      3\u001b[0m \u001b[38;5;28;01mfrom\u001b[39;00m \u001b[38;5;21;01msklearn\u001b[39;00m\u001b[38;5;21;01m.\u001b[39;00m\u001b[38;5;21;01msvm\u001b[39;00m \u001b[38;5;28;01mimport\u001b[39;00m SVC\n\u001b[1;32m      4\u001b[0m \u001b[38;5;28;01mfrom\u001b[39;00m \u001b[38;5;21;01msklearn\u001b[39;00m\u001b[38;5;21;01m.\u001b[39;00m\u001b[38;5;21;01mlinear_model\u001b[39;00m \u001b[38;5;28;01mimport\u001b[39;00m LogisticRegression\n",
      "\u001b[0;31mModuleNotFoundError\u001b[0m: No module named 'sklearn'"
     ]
    }
   ],
   "source": [
    "import numpy as np\n",
    "from sklearn.ensemble import RandomForestClassifier, VotingClassifier\n",
    "from sklearn.svm import SVC\n",
    "from sklearn.linear_model import LogisticRegression\n",
    "from sklearn.model_selection import train_test_split\n",
    "from sklearn.datasets import make_classification"
   ]
  },
  {
   "cell_type": "code",
   "execution_count": null,
   "id": "42c805c2-2c71-4106-b40a-d1b66c33ac2d",
   "metadata": {},
   "outputs": [],
   "source": [
    "import pandas as pd"
   ]
  },
  {
   "cell_type": "code",
   "execution_count": null,
   "id": "76ee85d7-145f-46c0-b307-e38a3a0c995c",
   "metadata": {},
   "outputs": [],
   "source": [
    "import warnings\n",
    "warnings.filterwarnings('ignore')\n",
    "import pandas as pd\n",
    "import numpy as np\n",
    "np.random.seed(1)\n",
    "import sklearn\n",
    "import sklearn.model_selection\n",
    "import sklearn.metrics\n",
    "import sklearn.ensemble\n",
    "import seaborn as sns\n",
    "sns.set()\n",
    "import matplotlib.pyplot as plt\n",
    "from matplotlib import rc\n",
    "%matplotlib inline"
   ]
  },
  {
   "cell_type": "code",
   "execution_count": null,
   "id": "76fc3f02-070e-45fd-88db-f50c49abd0d4",
   "metadata": {},
   "outputs": [],
   "source": [
    "from sklearn import model_selection\n",
    "from sklearn.ensemble import RandomForestClassifier\n",
    "from sklearn.linear_model import LogisticRegression\n",
    "from sklearn.naive_bayes import GaussianNB\n",
    "from sklearn.naive_bayes import MultinomialNB\n",
    "from sklearn.tree import DecisionTreeClassifier\n",
    "from sklearn.svm import SVC\n",
    "from sklearn.neighbors import KNeighborsClassifier\n",
    "from sklearn.discriminant_analysis import LinearDiscriminantAnalysis\n",
    "from sklearn.ensemble import ExtraTreesClassifier\n",
    "from sklearn.ensemble import AdaBoostClassifier\n",
    "from sklearn.ensemble import GradientBoostingClassifier\n",
    "from sklearn.ensemble import BaggingClassifier\n",
    "from sklearn.metrics import roc_curve, roc_auc_score\n",
    "from sklearn.metrics import precision_recall_curve\n",
    "from sklearn.metrics import f1_score\n",
    "from sklearn.metrics import auc\n",
    "from sklearn.metrics import precision_score, recall_score\n",
    "import pickle\n",
    "from sklearn.model_selection import StratifiedKFold\n",
    "from sklearn.model_selection import LeaveOneOut \n",
    "from sklearn.model_selection import cross_val_score\n",
    "from xgboost import XGBClassifier\n",
    "from sklearn.neural_network import MLPClassifier"
   ]
  },
  {
   "cell_type": "code",
   "execution_count": null,
   "id": "dc253ca9-3ad3-4e19-b81e-db9f62598746",
   "metadata": {},
   "outputs": [],
   "source": [
    "import tensorflow as tf\n",
    "from tensorflow.keras.models import Sequential\n",
    "from tensorflow.keras.layers import Dense, Dropout"
   ]
  },
  {
   "cell_type": "code",
   "execution_count": null,
   "id": "9d47b854-45ed-476d-a470-58630c359594",
   "metadata": {},
   "outputs": [],
   "source": [
    "clf1 = LogisticRegression(random_state=42)\n",
    "clf2 = XGBClassifier(random_state=42)\n",
    "clf3 = SVC(probability=True, random_state=42)"
   ]
  },
  {
   "cell_type": "code",
   "execution_count": null,
   "id": "22b6a0df-6001-4572-8b83-09dc7e7265f6",
   "metadata": {},
   "outputs": [],
   "source": [
    "log_reg_model = LogisticRegression(max_iter=1000, random_state=42)\n",
    "gb_model = GradientBoostingClassifier(random_state=42)\n",
    "nn_model = MLPClassifier(hidden_layer_sizes=(64, 32), max_iter=1000, random_state=42)\n",
    "xgb_model = XGBClassifier(random_state=42)"
   ]
  },
  {
   "cell_type": "code",
   "execution_count": null,
   "id": "d5129f5f-380b-4924-a7e8-747f4c8b4d4d",
   "metadata": {},
   "outputs": [],
   "source": [
    "models = []\n",
    "models.append(('LogR', LogisticRegression()))\n",
    "models.append(('gNB', GaussianNB()))\n",
    "models.append(('SVM', SVC(kernel = 'rbf', probability=True)))\n",
    "models.append(('DT', DecisionTreeClassifier(criterion = 'entropy', random_state=1)))\n",
    "models.append(('RF', RandomForestClassifier(n_estimators = 10, criterion = 'entropy', random_state=0)))\n",
    "models.append(('KNN', KNeighborsClassifier(n_neighbors = 5, metric = 'minkowski', p = 2)))\n",
    "models.append(('LDA', LinearDiscriminantAnalysis()))\n",
    "models.append(('mNB', MultinomialNB()))\n",
    "models.append(('ABC', AdaBoostClassifier()))\n",
    "models.append(('GBC', GradientBoostingClassifier()))\n",
    "models.append(('ETC', ExtraTreesClassifier()))\n",
    "models.append(('BC', BaggingClassifier()))\n",
    "\n",
    "models.append(('ENS-1', VotingClassifier(\n",
    "    estimators=[\n",
    "        ('log_reg', log_reg_model),\n",
    "        ('gb', gb_model),\n",
    "        ('nn', nn_model),\n",
    "        ('xgb', xgb_model)\n",
    "    ],\n",
    "    voting='soft'  # Use 'hard' for majority voting or 'soft' for weighted voting\n",
    ")))\n",
    "\n",
    "models.append(('ENS-2', VotingClassifier(estimators=[\n",
    "    ('lr', clf1), ('rf', clf2), ('svc', clf3)\n",
    "],voting='soft'\n",
    ")))"
   ]
  },
  {
   "cell_type": "code",
   "execution_count": null,
   "id": "b6a74320-53be-4216-a940-d3e13acd0f36",
   "metadata": {},
   "outputs": [],
   "source": [
    "len(models)"
   ]
  },
  {
   "cell_type": "code",
   "execution_count": null,
   "id": "225bd234-94aa-400e-b870-539d89214c49",
   "metadata": {},
   "outputs": [],
   "source": [
    "dataset = ['https://raw.githubusercontent.com/safaet/antimicrobial_resistance/main/Data/Read%20Data/amr_ast_doripenem_PA.csv',\n",
    "          'https://raw.githubusercontent.com/safaet/antimicrobial_resistance/main/Data/Read%20Data/amr_ast_clindamycin_CJ.csv',\n",
    "          'https://raw.githubusercontent.com/safaet/antimicrobial_resistance/main/Data/Read%20Data/amr_ast_doripenem_EcS.csv',\n",
    "          'https://raw.githubusercontent.com/safaet/antimicrobial_resistance/main/Data/Read%20Data/amr_ast_doripenem_KN.csv',\n",
    "          'https://raw.githubusercontent.com/safaet/antimicrobial_resistance/main/Data/Read%20Data/amr_ast_ertapenem_EcS.csv',\n",
    "          'https://raw.githubusercontent.com/safaet/antimicrobial_resistance/main/Data/Read%20Data/amr_ast_ertapenem_KN.csv',\n",
    "          'https://raw.githubusercontent.com/safaet/antimicrobial_resistance/main/Data/Read%20Data/amr_ast_imipenem_EcS.csv',\n",
    "          'https://raw.githubusercontent.com/safaet/antimicrobial_resistance/main/Data/Read%20Data/amr_ast_imipenem_KN.csv',\n",
    "          'https://raw.githubusercontent.com/safaet/antimicrobial_resistance/main/Data/Read%20Data/amr_ast_kanamycin_SE.csv',\n",
    "          'https://raw.githubusercontent.com/safaet/antimicrobial_resistance/main/Data/Read%20Data/amr_ast_meropenem_EcS.csv',\n",
    "          'https://raw.githubusercontent.com/safaet/antimicrobial_resistance/main/Data/Read%20Data/amr_ast_meropenem_KN.csv',\n",
    "          'https://raw.githubusercontent.com/safaet/antimicrobial_resistance/main/Data/Read%20Data/amr_ast_streptomycin_SE.csv']"
   ]
  },
  {
   "cell_type": "code",
   "execution_count": null,
   "id": "5cf8064f-9785-4d96-905e-674325bee6a5",
   "metadata": {},
   "outputs": [],
   "source": [
    "len(dataset)"
   ]
  },
  {
   "cell_type": "code",
   "execution_count": null,
   "id": "524c8f52-83a6-4b73-9d95-9980559bc4bf",
   "metadata": {},
   "outputs": [],
   "source": [
    "df = pd.read_csv(dataset[11])"
   ]
  },
  {
   "cell_type": "code",
   "execution_count": null,
   "id": "e677b16e-0eee-462e-b192-9f345ad09bca",
   "metadata": {},
   "outputs": [],
   "source": [
    "df.head()"
   ]
  },
  {
   "cell_type": "code",
   "execution_count": null,
   "id": "99491b53-537a-401a-bc49-75bf7937e12a",
   "metadata": {},
   "outputs": [],
   "source": [
    "file_out = '../result_csv_file/amr_ast_streptomycin_SE_result.csv'"
   ]
  },
  {
   "cell_type": "code",
   "execution_count": null,
   "id": "fc2093d0-20c4-4fae-80ad-ad3f60b001e0",
   "metadata": {},
   "outputs": [],
   "source": [
    "# slice dataset and store in df2\n",
    "df2 = df.iloc[:, 1:-1]\n",
    "df['sum'] = df2.sum(axis=1)"
   ]
  },
  {
   "cell_type": "code",
   "execution_count": null,
   "id": "cf13abb3-6c68-4c77-bcad-bb54e4bdecb3",
   "metadata": {
    "scrolled": true
   },
   "outputs": [],
   "source": [
    "y = df.pop('streptomycin')"
   ]
  },
  {
   "cell_type": "code",
   "execution_count": null,
   "id": "5ac5742f-ef5e-4619-a313-153c74dc86ea",
   "metadata": {},
   "outputs": [],
   "source": [
    "from sklearn.preprocessing import MinMaxScaler"
   ]
  },
  {
   "cell_type": "code",
   "execution_count": null,
   "id": "9722cdf0-9a72-43be-a47b-4c66fd82df71",
   "metadata": {},
   "outputs": [],
   "source": [
    "scaler = MinMaxScaler()\n",
    "scaled_column = scaler.fit_transform(df['sum'].values.reshape(-1, 1))\n",
    "df['sum'] = scaled_column"
   ]
  },
  {
   "cell_type": "code",
   "execution_count": null,
   "id": "a957d809-2d85-4e8e-bca2-d586e50795e2",
   "metadata": {},
   "outputs": [],
   "source": [
    "X = df.iloc[:,1:]\n",
    "# y = df.iloc[:, -1]"
   ]
  },
  {
   "cell_type": "markdown",
   "id": "c2c7f2d1-9da0-40ef-820e-67029bead897",
   "metadata": {},
   "source": [
    "# OverSamplind the data"
   ]
  },
  {
   "cell_type": "code",
   "execution_count": null,
   "id": "c214972b-0e96-4aa8-8354-d91bf92a69e6",
   "metadata": {},
   "outputs": [],
   "source": [
    "from imblearn.over_sampling import RandomOverSampler\n",
    "\n",
    "def DS_balance_oversampler(X, y):\n",
    "  oversampler = RandomOverSampler(sampling_strategy='auto', random_state=42)\n",
    "  X_resampled, y_resampled = oversampler.fit_resample(X, y)\n",
    "  return X_resampled, y_resampled\n",
    "\n",
    "X, y = DS_balance_oversampler(X, y)"
   ]
  },
  {
   "cell_type": "code",
   "execution_count": null,
   "id": "c4427514-d426-4de8-a2d9-5af47389d64a",
   "metadata": {},
   "outputs": [],
   "source": [
    "# X.pop(\"aac(6')-29b=COMPLETE\")"
   ]
  },
  {
   "cell_type": "code",
   "execution_count": null,
   "id": "9e59475d-83ff-4870-b4a5-37cfab943dc3",
   "metadata": {},
   "outputs": [],
   "source": [
    "X_train, X_test, y_train, y_test = train_test_split(X, y, test_size=0.2, random_state=42)"
   ]
  },
  {
   "cell_type": "markdown",
   "id": "8b5bb7f1-e7d0-4d85-bdf7-4e0792ab69d2",
   "metadata": {},
   "source": [
    "# Algorithm Implement"
   ]
  },
  {
   "cell_type": "code",
   "execution_count": null,
   "id": "405ac621-8ba3-40c1-b6b8-cd198032c843",
   "metadata": {},
   "outputs": [],
   "source": [
    "mode = []\n",
    "tr_precision=[]\n",
    "tr_recall = []\n",
    "tr_f1 = []\n",
    "tr_accu = []\n",
    "tr_cv = []\n",
    "\n",
    "te_precision=[]\n",
    "te_recall = []\n",
    "te_f1 = []\n",
    "te_accu = []\n",
    "te_cv = []"
   ]
  },
  {
   "cell_type": "code",
   "execution_count": null,
   "id": "45799adf-34b3-42d8-8fd3-b5b3344a8673",
   "metadata": {},
   "outputs": [],
   "source": [
    "for name, model in models:\n",
    "    model = model.fit(X_train, y_train)\n",
    "    mode.append(name)\n",
    "    \n",
    "    Y_train_pred = model.predict(X_train)\n",
    "    Tr_precision = precision_score(y_train, Y_train_pred, average='macro').round(3)\n",
    "    tr_precision.append(Tr_precision)\n",
    "    \n",
    "    Tr_recall = recall_score(y_train, Y_train_pred, average='macro').round(3)\n",
    "    tr_recall.append(Tr_recall)\n",
    "    \n",
    "    Tr_f1 = f1_score (y_train, Y_train_pred, average='macro').round(3)\n",
    "    tr_f1.append(Tr_f1)\n",
    "    \n",
    "    accuracy = model.score(X_train, y_train).round(3)\n",
    "    tr_accu.append(accuracy)\n",
    "\n",
    "    cv_score = cross_val_score(model, X,y, cv=6)\n",
    "    mean_accuracy = sum(cv_score)/len(cv_score)\n",
    "    mean_accuracy = round(mean_accuracy, 2)\n",
    "    tr_cv.append(mean_accuracy)\n",
    "\n",
    "    # dict = {'classifier': name, f'tr_precision{i+1}': Tr_precision, f'tr_recall{i+1}': Tr_recall, f'tr_f1 {i+1}':Tr_f1}\n",
    "\n",
    "    # df = pd.DataFrame(dict)\n",
    "\n",
    "    # print('Model_Name: ', model)\n",
    "    # print('Tr_precision: ', Tr_precision)\n",
    "    # print('Tr_recall: ', Tr_recall)\n",
    "    # print('Tr_f1: ', Tr_f1)    \n",
    "    # print(\"--------------\")\n",
    "\n",
    "    # i+=1"
   ]
  },
  {
   "cell_type": "code",
   "execution_count": null,
   "id": "4e62eae5-0275-4efb-9478-e15a0eea515e",
   "metadata": {},
   "outputs": [],
   "source": [
    "for name, model in models:\n",
    "    model = model.fit(X_train, y_train)\n",
    "    # mode.append(model)\n",
    "    \n",
    "    Y_test_pred = model.predict(X_test)\n",
    "    report = sklearn.metrics.classification_report(y_test, Y_test_pred)\n",
    "    Te_precision = precision_score(y_test, Y_test_pred, average='macro').round(3)\n",
    "    te_precision.append(Te_precision)\n",
    "    \n",
    "    Te_recall = recall_score(y_test, Y_test_pred, average='macro').round(3)\n",
    "    te_recall.append(Te_recall)\n",
    "    \n",
    "    Te_f1 = f1_score (y_test, Y_test_pred, average='macro').round(3)\n",
    "    te_f1.append(Te_f1)\n",
    "    \n",
    "    accuracy = model.score(X_test, y_test).round(3)\n",
    "    te_accu.append(accuracy)\n",
    "\n",
    "    cv_score = cross_val_score(model, X,y, cv=6)\n",
    "    mean_accuracy = sum(cv_score)/len(cv_score)\n",
    "    mean_accuracy = round(mean_accuracy, 2)\n",
    "    te_cv.append(mean_accuracy)\n",
    "\n",
    "    # print('Model_Name: ', model)\n",
    "    # print(\"Report: \", report)\n",
    "    # print('Te_precision: ', Te_precision)\n",
    "    # print('Te_recall: ', Te_recall)\n",
    "    # print('Te_f1: ', Te_f1)\n",
    "    # print(\"--------------\")"
   ]
  },
  {
   "cell_type": "code",
   "execution_count": null,
   "id": "4e728955-c621-485d-8de9-be07f3170069",
   "metadata": {
    "scrolled": true
   },
   "outputs": [],
   "source": [
    "# # Implement ANN Model\n",
    "\n",
    "\n",
    "# # Define the Model\n",
    "# ANN = Sequential([Dense(64, activation='relu', input_shape=(X_train.shape[1],)), Dropout(0.5),\n",
    "#                    Dense(32, activation='relu'),\n",
    "#                    Dropout(0.5), Dense(1, activation='sigmoid')])\n",
    "\n",
    "# # Compile the model\n",
    "# ANN.compile(optimizer='adam', loss='binary_crossentropy', metrics=['accuracy'])\n",
    "\n",
    "# # Train the model\n",
    "# history = ANN.fit(X_train, y_train, epochs=25, batch_size=32, validation_split=0.2)\n",
    "\n",
    "# # Evaluate the model\n",
    "\n",
    "# loss, accuracy = ANN.evaluate(X_test, y_test)\n",
    "\n"
   ]
  },
  {
   "cell_type": "code",
   "execution_count": null,
   "id": "e29cd71b-3c32-4c14-b37e-c514332542e1",
   "metadata": {},
   "outputs": [],
   "source": [
    "# mode.append('ANN')\n",
    "# tr_precision.append(0)\n",
    "# tr_recall.append(0)\n",
    "# tr_f1.append(0)\n",
    "# tr_accu.append(0)\n",
    "\n",
    "# te_precision.append(0)\n",
    "# te_recall.append(0)\n",
    "# te_f1.append(0)\n",
    "# te_accu.append(accuracy)"
   ]
  },
  {
   "cell_type": "code",
   "execution_count": null,
   "id": "87438cd9-59fa-44e4-8912-c5767a490ac7",
   "metadata": {},
   "outputs": [],
   "source": [
    "# te_cv.append(0)\n",
    "# tr_cv.append(0)"
   ]
  },
  {
   "cell_type": "code",
   "execution_count": null,
   "id": "fa8205e6-9d92-4286-b156-6030cb347890",
   "metadata": {
    "scrolled": true
   },
   "outputs": [],
   "source": [
    "dict = {'classifier': mode, 'tr_precision': tr_precision, 'tr_recall': tr_recall, 'tr_f1 ': tr_f1,'tr_accuracy': tr_accu, 'tr_cv': tr_cv,\n",
    "         'te_precision': te_precision, 'te_recall': te_recall, 'te_f1 ': te_f1, 'te_accuracy': te_accu, 'te_cv': te_cv}\n",
    "\n",
    "df = pd.DataFrame(dict)"
   ]
  },
  {
   "cell_type": "code",
   "execution_count": null,
   "id": "6cd1d883-6ce6-4053-8741-150f18902179",
   "metadata": {},
   "outputs": [],
   "source": [
    "df"
   ]
  },
  {
   "cell_type": "code",
   "execution_count": null,
   "id": "285a8f03-ad2c-4c46-95de-b96f7eb06b1e",
   "metadata": {},
   "outputs": [],
   "source": [
    "df.to_csv(file_out, index=False)"
   ]
  },
  {
   "cell_type": "code",
   "execution_count": null,
   "id": "f6ae3d37-596c-433c-8e26-8c9db06be2fa",
   "metadata": {},
   "outputs": [],
   "source": []
  },
  {
   "cell_type": "code",
   "execution_count": null,
   "id": "0c5c6c2b-e85a-406e-ad18-44a8011a8a9d",
   "metadata": {},
   "outputs": [],
   "source": []
  }
 ],
 "metadata": {
  "kernelspec": {
   "display_name": "Python 3 (ipykernel)",
   "language": "python",
   "name": "python3"
  },
  "language_info": {
   "codemirror_mode": {
    "name": "ipython",
    "version": 3
   },
   "file_extension": ".py",
   "mimetype": "text/x-python",
   "name": "python",
   "nbconvert_exporter": "python",
   "pygments_lexer": "ipython3",
   "version": "3.12.3"
  }
 },
 "nbformat": 4,
 "nbformat_minor": 5
}
