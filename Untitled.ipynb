{
 "cells": [
  {
   "cell_type": "code",
   "execution_count": 2,
   "id": "a244ed73-c936-4ca3-9150-b22d7ca421b0",
   "metadata": {},
   "outputs": [],
   "source": [
    "from amrdata import AmrData"
   ]
  },
  {
   "cell_type": "code",
   "execution_count": 1,
   "id": "697d8342-d0e6-4855-9109-64fbe383f952",
   "metadata": {},
   "outputs": [
    {
     "name": "stdout",
     "output_type": "stream",
     "text": [
      "Safaet\n"
     ]
    }
   ],
   "source": [
    "print('Safaet')"
   ]
  },
  {
   "cell_type": "code",
   "execution_count": 2,
   "id": "afd7ba36-534f-4914-8671-f1476a4c1cc3",
   "metadata": {},
   "outputs": [],
   "source": [
    "dict = {'safaet': 1}"
   ]
  },
  {
   "cell_type": "code",
   "execution_count": 3,
   "id": "10d08d4a-7e23-4800-947c-2ed304358242",
   "metadata": {
    "scrolled": true
   },
   "outputs": [
    {
     "data": {
      "text/plain": [
       "{'safaet': 1}"
      ]
     },
     "execution_count": 3,
     "metadata": {},
     "output_type": "execute_result"
    }
   ],
   "source": [
    "dict"
   ]
  },
  {
   "cell_type": "code",
   "execution_count": 4,
   "id": "8a6d9251-9b65-459c-8c8e-3725a838c7c0",
   "metadata": {
    "scrolled": true
   },
   "outputs": [
    {
     "name": "stdout",
     "output_type": "stream",
     "text": [
      "{'safaet': 1}\n"
     ]
    }
   ],
   "source": [
    "print(dict)"
   ]
  },
  {
   "cell_type": "code",
   "execution_count": null,
   "id": "b8d7589b-0e6d-4f1d-973b-a198979775fc",
   "metadata": {},
   "outputs": [],
   "source": []
  }
 ],
 "metadata": {
  "kernelspec": {
   "display_name": "Python 3 (ipykernel)",
   "language": "python",
   "name": "python3"
  },
  "language_info": {
   "codemirror_mode": {
    "name": "ipython",
    "version": 3
   },
   "file_extension": ".py",
   "mimetype": "text/x-python",
   "name": "python",
   "nbconvert_exporter": "python",
   "pygments_lexer": "ipython3",
   "version": "3.11.6"
  }
 },
 "nbformat": 4,
 "nbformat_minor": 5
}
