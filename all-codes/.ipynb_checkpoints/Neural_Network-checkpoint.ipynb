{
 "cells": [
  {
   "cell_type": "markdown",
   "id": "e464a155-8148-4025-9355-eab76ccbfcdd",
   "metadata": {},
   "source": [
    "# Neural Network Algorithm "
   ]
  },
  {
   "cell_type": "markdown",
   "id": "3503655b-fdad-4277-90ba-a57791d105fc",
   "metadata": {},
   "source": [
    "| Algorithm                                      | Description                                                                                                       |\n",
    "|------------------------------------------------|-------------------------------------------------------------------------------------------------------------------|\n",
    "| **Feedforward Neural Network (FNN)**             | The basic form of neural network where information travels in one direction—from input to output.                 |\n",
    "| **Convolutional Neural Network (CNN)**           | Specialized for image processing, CNNs use convolutional layers to learn spatial hierarchies of features.          |\n",
    "| **Recurrent Neural Network (RNN)**               | Designed to work with sequences of data, RNNs have connections that form cycles, allowing them to remember information over time.                   |\n",
    "| **Long Short-Term Memory (LSTM)**                | A type of RNN that addresses the vanishing gradient problem, allowing for better learning of long-term dependencies in sequences.                       |\n",
    "| **Gated Recurrent Unit (GRU)**                  | Similar to LSTM, GRU is designed to capture long-term dependencies in sequences but with a simpler architecture.      |\n",
    "| **Autoencoder**                                 | Used for unsupervised learning and dimensionality reduction, autoencoders encode input data into a compressed representation and decode it back.      |\n",
    "| **Generative Adversarial Network (GAN)**        | Comprising a generator and a discriminator, GANs are used for generating new data instances that are similar to a given dataset.                       |\n",
    "| **Variational Autoencoder (VAE)**               | An extension of autoencoders with probabilistic principles, VAEs are used for generating new data points and are particularly good for generating diverse samples. |\n",
    "| **Siamese Network**                             | Designed to learn similarity between pairs of inputs, Siamese networks have shared weights for both inputs and are used in applications like face recognition and signature verification.|\n",
    "| **Radial Basis Function (RBF) Network**         | Using radial basis functions as activation functions, RBF networks are used for tasks like function approximation and pattern recognition.                   |\n"
   ]
  },
  {
   "cell_type": "markdown",
   "id": "81d91876-8e43-48a6-b5c8-b6f762d1b6e4",
   "metadata": {},
   "source": [
    "# Import Libraries"
   ]
  },
  {
   "cell_type": "code",
   "execution_count": 31,
   "id": "084b4cbb-62ab-4bbd-bed8-16086904a2ba",
   "metadata": {},
   "outputs": [],
   "source": [
    "import pandas as pd\n",
    "from sklearn.model_selection import train_test_split\n",
    "from sklearn.preprocessing import StandardScaler\n",
    "from sklearn.metrics import classification_report\n",
    "from tensorflow.keras.models import Sequential\n",
    "from tensorflow.keras.layers import Dense"
   ]
  },
  {
   "cell_type": "markdown",
   "id": "0921b3a7-a2c8-4d0d-8a67-e1cfda29b819",
   "metadata": {},
   "source": [
    "# Import Dataset"
   ]
  },
  {
   "cell_type": "code",
   "execution_count": 32,
   "id": "70388f6f-2516-4435-b9b1-81555c613915",
   "metadata": {},
   "outputs": [],
   "source": [
    "dataset = ['https://raw.githubusercontent.com/safaet/antimicrobial_resistance/main/Data/Read%20Data/amr_ast_doripenem_PA.csv',\n",
    "          'https://raw.githubusercontent.com/safaet/antimicrobial_resistance/main/Data/Read%20Data/amr_ast_clindamycin_CJ.csv',\n",
    "          'https://raw.githubusercontent.com/safaet/antimicrobial_resistance/main/Data/Read%20Data/amr_ast_doripenem_EcS.csv',\n",
    "          'https://raw.githubusercontent.com/safaet/antimicrobial_resistance/main/Data/Read%20Data/amr_ast_doripenem_KN.csv',\n",
    "          'https://raw.githubusercontent.com/safaet/antimicrobial_resistance/main/Data/Read%20Data/amr_ast_ertapenem_EcS.csv',\n",
    "          'https://raw.githubusercontent.com/safaet/antimicrobial_resistance/main/Data/Read%20Data/amr_ast_ertapenem_KN.csv',\n",
    "          'https://raw.githubusercontent.com/safaet/antimicrobial_resistance/main/Data/Read%20Data/amr_ast_imipenem_EcS.csv',\n",
    "          'https://raw.githubusercontent.com/safaet/antimicrobial_resistance/main/Data/Read%20Data/amr_ast_imipenem_KN.csv',\n",
    "          'https://raw.githubusercontent.com/safaet/antimicrobial_resistance/main/Data/Read%20Data/amr_ast_kanamycin_SE.csv',\n",
    "          'https://raw.githubusercontent.com/safaet/antimicrobial_resistance/main/Data/Read%20Data/amr_ast_meropenem_EcS.csv',\n",
    "          'https://raw.githubusercontent.com/safaet/antimicrobial_resistance/main/Data/Read%20Data/amr_ast_meropenem_KN.csv',\n",
    "          'https://raw.githubusercontent.com/safaet/antimicrobial_resistance/main/Data/Read%20Data/amr_ast_streptomycin_SE.csv']"
   ]
  },
  {
   "cell_type": "code",
   "execution_count": 33,
   "id": "580aef6d-b74c-4a1c-a262-656f9c59bfd4",
   "metadata": {},
   "outputs": [],
   "source": [
    "df = pd.read_csv(dataset[4])"
   ]
  },
  {
   "cell_type": "code",
   "execution_count": 34,
   "id": "fa3919e1-5b48-4171-952a-288801ef50ff",
   "metadata": {},
   "outputs": [],
   "source": [
    "file_out = 'result_csv_file/amr_ast_streptomycin_SE_result.csv'"
   ]
  },
  {
   "cell_type": "markdown",
   "id": "863d79cd-a2d5-4e49-a08b-bf78bf2f58e5",
   "metadata": {},
   "source": [
    "# Add Sum Column and use Min-Max method"
   ]
  },
  {
   "cell_type": "code",
   "execution_count": 35,
   "id": "1f456f71-6db7-4c64-b923-70a962c9349a",
   "metadata": {},
   "outputs": [],
   "source": [
    "df2 = df.iloc[:, 1:-1]\n",
    "df['sum'] = df2.sum(axis=1)"
   ]
  },
  {
   "cell_type": "code",
   "execution_count": 36,
   "id": "f3bba9cd-b298-4496-8fa7-ca375b90c38a",
   "metadata": {},
   "outputs": [],
   "source": [
    "from sklearn.preprocessing import MinMaxScaler"
   ]
  },
  {
   "cell_type": "code",
   "execution_count": 37,
   "id": "0b2a2178-b7b3-4914-805f-02b55b649adc",
   "metadata": {},
   "outputs": [],
   "source": [
    "scaler = MinMaxScaler()\n",
    "scaled_column = scaler.fit_transform(df['sum'].values.reshape(-1, 1))\n",
    "df['sum'] = scaled_column\n"
   ]
  },
  {
   "cell_type": "markdown",
   "id": "6a315d71-2772-4744-b950-80b41ae4c0dc",
   "metadata": {},
   "source": [
    "# Split Data"
   ]
  },
  {
   "cell_type": "code",
   "execution_count": 38,
   "id": "19cbb229-bb6a-4034-888e-42afbd12f4b1",
   "metadata": {},
   "outputs": [],
   "source": [
    "X = df.iloc[:,1:]\n",
    "y = df.pop('ertapenem')"
   ]
  },
  {
   "cell_type": "code",
   "execution_count": 39,
   "id": "605cf377-3101-456a-bb73-47578b84607a",
   "metadata": {},
   "outputs": [],
   "source": [
    "X_train, X_test, y_train, y_test = train_test_split(X, y, test_size=0.2, random_state=42)"
   ]
  },
  {
   "cell_type": "markdown",
   "id": "d0902590-9a94-45d1-97d2-113871a7f8dc",
   "metadata": {},
   "source": [
    "# Implement Algorithm\n",
    "\n",
    "## Standardize the features"
   ]
  },
  {
   "cell_type": "code",
   "execution_count": 40,
   "id": "5ace65ff-11ab-4ed6-9fb5-b98350aded9b",
   "metadata": {},
   "outputs": [],
   "source": [
    "scaler = StandardScaler()\n",
    "X_train_scaled = scaler.fit_transform(X_train)\n",
    "X_test_scaled = scaler.transform(X_test)"
   ]
  },
  {
   "cell_type": "markdown",
   "id": "9bba7e53-b514-4143-844d-cd46136c4c68",
   "metadata": {},
   "source": [
    "## Build the neural network model"
   ]
  },
  {
   "cell_type": "code",
   "execution_count": 41,
   "id": "b8dc0eb5-b729-4aae-83d3-bb63e79a9f12",
   "metadata": {},
   "outputs": [],
   "source": [
    "model = Sequential()\n",
    "model.add(Dense(64, activation='relu', input_shape=(X_train.shape[1],)))\n",
    "model.add(Dense(32, activation='relu'))\n",
    "model.add(Dense(1, activation='sigmoid'))"
   ]
  },
  {
   "cell_type": "markdown",
   "id": "4af2b3f1-adf0-4207-bb4e-6080b6c5225e",
   "metadata": {},
   "source": [
    "## Compile the model"
   ]
  },
  {
   "cell_type": "code",
   "execution_count": 42,
   "id": "aa033352-b0eb-4991-a0cb-6db3dda0819d",
   "metadata": {},
   "outputs": [],
   "source": [
    "model.compile(optimizer='adam', loss='binary_crossentropy', metrics=['accuracy'])"
   ]
  },
  {
   "cell_type": "markdown",
   "id": "75d9a355-7d77-4378-b07d-2357f757778a",
   "metadata": {},
   "source": [
    "## Train The model"
   ]
  },
  {
   "cell_type": "code",
   "execution_count": 43,
   "id": "7c7d0e9c-74dc-478b-b7a1-6735df9453fa",
   "metadata": {},
   "outputs": [
    {
     "name": "stdout",
     "output_type": "stream",
     "text": [
      "Epoch 1/10\n",
      "3/3 - 3s - loss: 0.8647 - accuracy: 0.3171 - val_loss: 0.7270 - val_accuracy: 0.5238 - 3s/epoch - 1s/step\n",
      "Epoch 2/10\n",
      "3/3 - 0s - loss: 0.7148 - accuracy: 0.3659 - val_loss: 0.6492 - val_accuracy: 0.5238 - 116ms/epoch - 39ms/step\n",
      "Epoch 3/10\n",
      "3/3 - 0s - loss: 0.6137 - accuracy: 0.5854 - val_loss: 0.5896 - val_accuracy: 0.6667 - 125ms/epoch - 42ms/step\n",
      "Epoch 4/10\n",
      "3/3 - 0s - loss: 0.5360 - accuracy: 0.7683 - val_loss: 0.5413 - val_accuracy: 0.8095 - 122ms/epoch - 41ms/step\n",
      "Epoch 5/10\n",
      "3/3 - 0s - loss: 0.4718 - accuracy: 0.8902 - val_loss: 0.5005 - val_accuracy: 0.8571 - 113ms/epoch - 38ms/step\n",
      "Epoch 6/10\n",
      "3/3 - 0s - loss: 0.4213 - accuracy: 0.9268 - val_loss: 0.4633 - val_accuracy: 0.9048 - 105ms/epoch - 35ms/step\n",
      "Epoch 7/10\n",
      "3/3 - 0s - loss: 0.3795 - accuracy: 0.9390 - val_loss: 0.4300 - val_accuracy: 0.9048 - 122ms/epoch - 41ms/step\n",
      "Epoch 8/10\n",
      "3/3 - 0s - loss: 0.3410 - accuracy: 0.9390 - val_loss: 0.3991 - val_accuracy: 0.9524 - 141ms/epoch - 47ms/step\n",
      "Epoch 9/10\n",
      "3/3 - 0s - loss: 0.3053 - accuracy: 0.9390 - val_loss: 0.3703 - val_accuracy: 0.9524 - 116ms/epoch - 39ms/step\n",
      "Epoch 10/10\n",
      "3/3 - 0s - loss: 0.2765 - accuracy: 0.9634 - val_loss: 0.3433 - val_accuracy: 0.9524 - 136ms/epoch - 45ms/step\n"
     ]
    },
    {
     "data": {
      "text/plain": [
       "<keras.src.callbacks.History at 0x7ff7a34203d0>"
      ]
     },
     "execution_count": 43,
     "metadata": {},
     "output_type": "execute_result"
    }
   ],
   "source": [
    "model.fit(X_train_scaled, y_train, epochs=10, batch_size=32, validation_split=0.2, verbose=2)"
   ]
  },
  {
   "cell_type": "markdown",
   "id": "d6e1ecbc-1092-47b9-8378-abc21aea4ab3",
   "metadata": {},
   "source": [
    "## Evaluate the model on the test set"
   ]
  },
  {
   "cell_type": "code",
   "execution_count": 44,
   "id": "3cb3e5c0-2fdf-49c4-a107-785f72955ed4",
   "metadata": {},
   "outputs": [
    {
     "name": "stdout",
     "output_type": "stream",
     "text": [
      "1/1 [==============================] - 0s 299ms/step\n"
     ]
    }
   ],
   "source": [
    "y_pred_prob = model.predict(X_test_scaled)\n",
    "y_pred = (y_pred_prob > 0.5).astype(int)"
   ]
  },
  {
   "cell_type": "markdown",
   "id": "8c7f76e1-0c01-4166-8c1c-01732b27e49f",
   "metadata": {},
   "source": [
    "# Print Classification report"
   ]
  },
  {
   "cell_type": "code",
   "execution_count": 45,
   "id": "0c132420-8db8-4b4b-9990-d01776564212",
   "metadata": {},
   "outputs": [
    {
     "name": "stdout",
     "output_type": "stream",
     "text": [
      "Neural Network Classification Report:\n",
      "              precision    recall  f1-score   support\n",
      "\n",
      "           0       0.87      0.93      0.90        14\n",
      "           1       0.91      0.83      0.87        12\n",
      "\n",
      "    accuracy                           0.88        26\n",
      "   macro avg       0.89      0.88      0.88        26\n",
      "weighted avg       0.89      0.88      0.88        26\n",
      "\n"
     ]
    }
   ],
   "source": [
    "print(\"Neural Network Classification Report:\")\n",
    "print(classification_report(y_test, y_pred))"
   ]
  },
  {
   "cell_type": "code",
   "execution_count": null,
   "id": "ed482d88-5032-42a2-b271-8d8b4c8f888c",
   "metadata": {},
   "outputs": [],
   "source": []
  }
 ],
 "metadata": {
  "kernelspec": {
   "display_name": "Python 3 (ipykernel)",
   "language": "python",
   "name": "python3"
  },
  "language_info": {
   "codemirror_mode": {
    "name": "ipython",
    "version": 3
   },
   "file_extension": ".py",
   "mimetype": "text/x-python",
   "name": "python",
   "nbconvert_exporter": "python",
   "pygments_lexer": "ipython3",
   "version": "3.11.4"
  }
 },
 "nbformat": 4,
 "nbformat_minor": 5
}
