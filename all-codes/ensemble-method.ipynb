{
 "cells": [
  {
   "cell_type": "markdown",
   "id": "ec6de1c7-feeb-47e0-a367-f69bae4a8473",
   "metadata": {},
   "source": [
    "# Import Libraries"
   ]
  },
  {
   "cell_type": "code",
   "execution_count": 1,
   "id": "27e755fc-638a-41a5-9264-079ddfd4c061",
   "metadata": {},
   "outputs": [],
   "source": [
    "import pandas as pd\n",
    "from sklearn.model_selection import train_test_split\n",
    "from sklearn.linear_model import LogisticRegression\n",
    "from sklearn.ensemble import GradientBoostingClassifier\n",
    "from sklearn.metrics import classification_report\n",
    "from sklearn.preprocessing import StandardScaler\n",
    "from sklearn.neural_network import MLPClassifier\n",
    "from xgboost import XGBClassifier\n",
    "from sklearn.ensemble import VotingClassifier"
   ]
  },
  {
   "cell_type": "code",
   "execution_count": 2,
   "id": "d397bbea-96a1-4456-b737-e5574c30dd9b",
   "metadata": {},
   "outputs": [],
   "source": [
    "from sklearn.ensemble import RandomForestClassifier\n",
    "from sklearn.svm import SVC"
   ]
  },
  {
   "cell_type": "markdown",
   "id": "289b8395-20a5-4fd8-9ccd-3a81c3356bcc",
   "metadata": {},
   "source": [
    "# Import Dataset"
   ]
  },
  {
   "cell_type": "code",
   "execution_count": 3,
   "id": "c8aad3ff-f801-4b5c-a063-053f2ce4e087",
   "metadata": {},
   "outputs": [],
   "source": [
    "dataset = ['https://raw.githubusercontent.com/safaet/antimicrobial_resistance/main/Data/Read%20Data/amr_ast_doripenem_PA.csv',\n",
    "          'https://raw.githubusercontent.com/safaet/antimicrobial_resistance/main/Data/Read%20Data/amr_ast_clindamycin_CJ.csv',\n",
    "          'https://raw.githubusercontent.com/safaet/antimicrobial_resistance/main/Data/Read%20Data/amr_ast_doripenem_EcS.csv',\n",
    "          'https://raw.githubusercontent.com/safaet/antimicrobial_resistance/main/Data/Read%20Data/amr_ast_doripenem_KN.csv',\n",
    "          'https://raw.githubusercontent.com/safaet/antimicrobial_resistance/main/Data/Read%20Data/amr_ast_ertapenem_EcS.csv',\n",
    "          'https://raw.githubusercontent.com/safaet/antimicrobial_resistance/main/Data/Read%20Data/amr_ast_ertapenem_KN.csv',\n",
    "          'https://raw.githubusercontent.com/safaet/antimicrobial_resistance/main/Data/Read%20Data/amr_ast_imipenem_EcS.csv',\n",
    "          'https://raw.githubusercontent.com/safaet/antimicrobial_resistance/main/Data/Read%20Data/amr_ast_imipenem_KN.csv',\n",
    "          'https://raw.githubusercontent.com/safaet/antimicrobial_resistance/main/Data/Read%20Data/amr_ast_kanamycin_SE.csv',\n",
    "          'https://raw.githubusercontent.com/safaet/antimicrobial_resistance/main/Data/Read%20Data/amr_ast_meropenem_EcS.csv',\n",
    "          'https://raw.githubusercontent.com/safaet/antimicrobial_resistance/main/Data/Read%20Data/amr_ast_meropenem_KN.csv',\n",
    "          'https://raw.githubusercontent.com/safaet/antimicrobial_resistance/main/Data/Read%20Data/amr_ast_streptomycin_SE.csv']"
   ]
  },
  {
   "cell_type": "code",
   "execution_count": 5,
   "id": "0df8766c-b1b7-4ae6-9b6d-b4795bc5d717",
   "metadata": {},
   "outputs": [],
   "source": [
    "data = pd.read_csv(dataset[0])"
   ]
  },
  {
   "cell_type": "markdown",
   "id": "bcad04e2-35c7-488f-96bd-bbfd77e6558f",
   "metadata": {},
   "source": [
    "# Add Sum Column and use Min-Max method"
   ]
  },
  {
   "cell_type": "code",
   "execution_count": 6,
   "id": "ed65dbaa-c635-431f-9418-7ea0689e5411",
   "metadata": {},
   "outputs": [],
   "source": [
    "df2 = data.iloc[:, 1:-1]\n",
    "data['sum'] = df2.sum(axis=1)"
   ]
  },
  {
   "cell_type": "code",
   "execution_count": 7,
   "id": "b80889ef-d5f2-4e99-8b0a-1a2a49a20645",
   "metadata": {},
   "outputs": [],
   "source": [
    "from sklearn.preprocessing import MinMaxScaler\n",
    "\n",
    "scaler = MinMaxScaler()\n",
    "scaled_column = scaler.fit_transform(data['sum'].values.reshape(-1, 1))\n",
    "data['sum'] = scaled_column"
   ]
  },
  {
   "cell_type": "markdown",
   "id": "cdf813e5-ffd8-4eea-8eb0-4cbd07f57b57",
   "metadata": {},
   "source": [
    "# Split the dataset"
   ]
  },
  {
   "cell_type": "code",
   "execution_count": 8,
   "id": "d607bfdf-6e9b-48a1-802d-15eb5761f727",
   "metadata": {},
   "outputs": [],
   "source": [
    "X = data.iloc[:,1:]\n",
    "y = data['doripenem']"
   ]
  },
  {
   "cell_type": "code",
   "execution_count": 9,
   "id": "61909c42-469b-4caa-8a09-38fc29805ea9",
   "metadata": {},
   "outputs": [],
   "source": [
    "X_train, X_test, y_train, y_test = train_test_split(X, y, test_size=0.2, random_state=42)"
   ]
  },
  {
   "cell_type": "markdown",
   "id": "09727870-cdde-47c3-8fea-400049e88e85",
   "metadata": {},
   "source": [
    "# Implement Algorithm\n",
    "## Standardize the feature"
   ]
  },
  {
   "cell_type": "code",
   "execution_count": 10,
   "id": "fdc56724-c6a8-4225-a962-e13be5d4a43f",
   "metadata": {},
   "outputs": [],
   "source": [
    "scaler = StandardScaler()\n",
    "X_train_scaled = scaler.fit_transform(X_train)\n",
    "X_test_scaled = scaler.transform(X_test)"
   ]
  },
  {
   "cell_type": "markdown",
   "id": "fdffbd30-b21d-4e51-9396-badda6a93071",
   "metadata": {},
   "source": [
    "## Create individual models  (LogR, gb, nn, xgb)"
   ]
  },
  {
   "cell_type": "code",
   "execution_count": 11,
   "id": "d4c9d442-d14d-4333-80ca-f3ff60101702",
   "metadata": {},
   "outputs": [],
   "source": [
    "log_reg_model = LogisticRegression(max_iter=1000, random_state=42)\n",
    "gb_model = GradientBoostingClassifier(random_state=42)\n",
    "nn_model = MLPClassifier(hidden_layer_sizes=(64, 32), max_iter=1000, random_state=42)\n",
    "xgb_model = XGBClassifier(random_state=42)"
   ]
  },
  {
   "cell_type": "markdown",
   "id": "d99aadfe-4888-48d1-8114-bcab4e623ec9",
   "metadata": {},
   "source": [
    "### Create an ensemble model using a VotingClassifier"
   ]
  },
  {
   "cell_type": "code",
   "execution_count": 12,
   "id": "7a9f4530-eb4f-4d5f-9961-0521711b2cc1",
   "metadata": {},
   "outputs": [],
   "source": [
    "ensemble_model = VotingClassifier(\n",
    "    estimators=[\n",
    "        ('log_reg', log_reg_model),\n",
    "        ('gb', gb_model),\n",
    "        ('nn', nn_model),\n",
    "        ('xgb', xgb_model)\n",
    "    ],\n",
    "    voting='soft'  # Use 'hard' for majority voting or 'soft' for weighted voting\n",
    ")"
   ]
  },
  {
   "cell_type": "markdown",
   "id": "7a1dc3af-5515-4fc5-9197-9a0590796044",
   "metadata": {},
   "source": [
    "## Create individual models (LogR, Decision Tree, Random Forest)"
   ]
  },
  {
   "cell_type": "code",
   "execution_count": 13,
   "id": "13ed71e5-6fe8-4fcc-a819-aeb924c14add",
   "metadata": {},
   "outputs": [],
   "source": [
    "clf1 = LogisticRegression(random_state=42)\n",
    "clf2 = RandomForestClassifier(n_estimators=100, random_state=42)\n",
    "clf3 = SVC(probability=True, random_state=42)"
   ]
  },
  {
   "cell_type": "markdown",
   "id": "8f91a1e0-4ab5-406a-adc8-4afd35da7d6a",
   "metadata": {},
   "source": [
    "### Create an ensemble model using a VotinClassifier"
   ]
  },
  {
   "cell_type": "code",
   "execution_count": 14,
   "id": "a56a8919-cb70-4374-84e5-e81a65652a50",
   "metadata": {},
   "outputs": [],
   "source": [
    "ensemble_model = VotingClassifier(estimators=[\n",
    "    ('lr', clf1), ('rf', clf2), ('svc', clf3)\n",
    "],voting='soft'\n",
    ")"
   ]
  },
  {
   "cell_type": "markdown",
   "id": "5c63f953-0295-43d7-836c-a14dcef500d1",
   "metadata": {},
   "source": [
    "## Train the ensemble model\n"
   ]
  },
  {
   "cell_type": "code",
   "execution_count": 15,
   "id": "095d838b-de04-473e-9031-d4f6c44e08a7",
   "metadata": {},
   "outputs": [
    {
     "data": {
      "text/html": [
       "<style>#sk-container-id-1 {color: black;}#sk-container-id-1 pre{padding: 0;}#sk-container-id-1 div.sk-toggleable {background-color: white;}#sk-container-id-1 label.sk-toggleable__label {cursor: pointer;display: block;width: 100%;margin-bottom: 0;padding: 0.3em;box-sizing: border-box;text-align: center;}#sk-container-id-1 label.sk-toggleable__label-arrow:before {content: \"▸\";float: left;margin-right: 0.25em;color: #696969;}#sk-container-id-1 label.sk-toggleable__label-arrow:hover:before {color: black;}#sk-container-id-1 div.sk-estimator:hover label.sk-toggleable__label-arrow:before {color: black;}#sk-container-id-1 div.sk-toggleable__content {max-height: 0;max-width: 0;overflow: hidden;text-align: left;background-color: #f0f8ff;}#sk-container-id-1 div.sk-toggleable__content pre {margin: 0.2em;color: black;border-radius: 0.25em;background-color: #f0f8ff;}#sk-container-id-1 input.sk-toggleable__control:checked~div.sk-toggleable__content {max-height: 200px;max-width: 100%;overflow: auto;}#sk-container-id-1 input.sk-toggleable__control:checked~label.sk-toggleable__label-arrow:before {content: \"▾\";}#sk-container-id-1 div.sk-estimator input.sk-toggleable__control:checked~label.sk-toggleable__label {background-color: #d4ebff;}#sk-container-id-1 div.sk-label input.sk-toggleable__control:checked~label.sk-toggleable__label {background-color: #d4ebff;}#sk-container-id-1 input.sk-hidden--visually {border: 0;clip: rect(1px 1px 1px 1px);clip: rect(1px, 1px, 1px, 1px);height: 1px;margin: -1px;overflow: hidden;padding: 0;position: absolute;width: 1px;}#sk-container-id-1 div.sk-estimator {font-family: monospace;background-color: #f0f8ff;border: 1px dotted black;border-radius: 0.25em;box-sizing: border-box;margin-bottom: 0.5em;}#sk-container-id-1 div.sk-estimator:hover {background-color: #d4ebff;}#sk-container-id-1 div.sk-parallel-item::after {content: \"\";width: 100%;border-bottom: 1px solid gray;flex-grow: 1;}#sk-container-id-1 div.sk-label:hover label.sk-toggleable__label {background-color: #d4ebff;}#sk-container-id-1 div.sk-serial::before {content: \"\";position: absolute;border-left: 1px solid gray;box-sizing: border-box;top: 0;bottom: 0;left: 50%;z-index: 0;}#sk-container-id-1 div.sk-serial {display: flex;flex-direction: column;align-items: center;background-color: white;padding-right: 0.2em;padding-left: 0.2em;position: relative;}#sk-container-id-1 div.sk-item {position: relative;z-index: 1;}#sk-container-id-1 div.sk-parallel {display: flex;align-items: stretch;justify-content: center;background-color: white;position: relative;}#sk-container-id-1 div.sk-item::before, #sk-container-id-1 div.sk-parallel-item::before {content: \"\";position: absolute;border-left: 1px solid gray;box-sizing: border-box;top: 0;bottom: 0;left: 50%;z-index: -1;}#sk-container-id-1 div.sk-parallel-item {display: flex;flex-direction: column;z-index: 1;position: relative;background-color: white;}#sk-container-id-1 div.sk-parallel-item:first-child::after {align-self: flex-end;width: 50%;}#sk-container-id-1 div.sk-parallel-item:last-child::after {align-self: flex-start;width: 50%;}#sk-container-id-1 div.sk-parallel-item:only-child::after {width: 0;}#sk-container-id-1 div.sk-dashed-wrapped {border: 1px dashed gray;margin: 0 0.4em 0.5em 0.4em;box-sizing: border-box;padding-bottom: 0.4em;background-color: white;}#sk-container-id-1 div.sk-label label {font-family: monospace;font-weight: bold;display: inline-block;line-height: 1.2em;}#sk-container-id-1 div.sk-label-container {text-align: center;}#sk-container-id-1 div.sk-container {/* jupyter's `normalize.less` sets `[hidden] { display: none; }` but bootstrap.min.css set `[hidden] { display: none !important; }` so we also need the `!important` here to be able to override the default hidden behavior on the sphinx rendered scikit-learn.org. See: https://github.com/scikit-learn/scikit-learn/issues/21755 */display: inline-block !important;position: relative;}#sk-container-id-1 div.sk-text-repr-fallback {display: none;}</style><div id=\"sk-container-id-1\" class=\"sk-top-container\"><div class=\"sk-text-repr-fallback\"><pre>VotingClassifier(estimators=[(&#x27;lr&#x27;, LogisticRegression(random_state=42)),\n",
       "                             (&#x27;rf&#x27;, RandomForestClassifier(random_state=42)),\n",
       "                             (&#x27;svc&#x27;, SVC(probability=True, random_state=42))],\n",
       "                 voting=&#x27;soft&#x27;)</pre><b>In a Jupyter environment, please rerun this cell to show the HTML representation or trust the notebook. <br />On GitHub, the HTML representation is unable to render, please try loading this page with nbviewer.org.</b></div><div class=\"sk-container\" hidden><div class=\"sk-item sk-dashed-wrapped\"><div class=\"sk-label-container\"><div class=\"sk-label sk-toggleable\"><input class=\"sk-toggleable__control sk-hidden--visually\" id=\"sk-estimator-id-1\" type=\"checkbox\" ><label for=\"sk-estimator-id-1\" class=\"sk-toggleable__label sk-toggleable__label-arrow\">VotingClassifier</label><div class=\"sk-toggleable__content\"><pre>VotingClassifier(estimators=[(&#x27;lr&#x27;, LogisticRegression(random_state=42)),\n",
       "                             (&#x27;rf&#x27;, RandomForestClassifier(random_state=42)),\n",
       "                             (&#x27;svc&#x27;, SVC(probability=True, random_state=42))],\n",
       "                 voting=&#x27;soft&#x27;)</pre></div></div></div><div class=\"sk-parallel\"><div class=\"sk-parallel-item\"><div class=\"sk-item\"><div class=\"sk-label-container\"><div class=\"sk-label sk-toggleable\"><label>lr</label></div></div><div class=\"sk-serial\"><div class=\"sk-item\"><div class=\"sk-estimator sk-toggleable\"><input class=\"sk-toggleable__control sk-hidden--visually\" id=\"sk-estimator-id-2\" type=\"checkbox\" ><label for=\"sk-estimator-id-2\" class=\"sk-toggleable__label sk-toggleable__label-arrow\">LogisticRegression</label><div class=\"sk-toggleable__content\"><pre>LogisticRegression(random_state=42)</pre></div></div></div></div></div></div><div class=\"sk-parallel-item\"><div class=\"sk-item\"><div class=\"sk-label-container\"><div class=\"sk-label sk-toggleable\"><label>rf</label></div></div><div class=\"sk-serial\"><div class=\"sk-item\"><div class=\"sk-estimator sk-toggleable\"><input class=\"sk-toggleable__control sk-hidden--visually\" id=\"sk-estimator-id-3\" type=\"checkbox\" ><label for=\"sk-estimator-id-3\" class=\"sk-toggleable__label sk-toggleable__label-arrow\">RandomForestClassifier</label><div class=\"sk-toggleable__content\"><pre>RandomForestClassifier(random_state=42)</pre></div></div></div></div></div></div><div class=\"sk-parallel-item\"><div class=\"sk-item\"><div class=\"sk-label-container\"><div class=\"sk-label sk-toggleable\"><label>svc</label></div></div><div class=\"sk-serial\"><div class=\"sk-item\"><div class=\"sk-estimator sk-toggleable\"><input class=\"sk-toggleable__control sk-hidden--visually\" id=\"sk-estimator-id-4\" type=\"checkbox\" ><label for=\"sk-estimator-id-4\" class=\"sk-toggleable__label sk-toggleable__label-arrow\">SVC</label><div class=\"sk-toggleable__content\"><pre>SVC(probability=True, random_state=42)</pre></div></div></div></div></div></div></div></div></div></div>"
      ],
      "text/plain": [
       "VotingClassifier(estimators=[('lr', LogisticRegression(random_state=42)),\n",
       "                             ('rf', RandomForestClassifier(random_state=42)),\n",
       "                             ('svc', SVC(probability=True, random_state=42))],\n",
       "                 voting='soft')"
      ]
     },
     "execution_count": 15,
     "metadata": {},
     "output_type": "execute_result"
    }
   ],
   "source": [
    "ensemble_model.fit(X_train_scaled, y_train)"
   ]
  },
  {
   "cell_type": "markdown",
   "id": "9d5004f2-22f4-4c8e-98dc-607371117445",
   "metadata": {},
   "source": [
    "## Make Prediction"
   ]
  },
  {
   "cell_type": "code",
   "execution_count": 16,
   "id": "0e9a4644-f499-487e-a612-e83b59de3bf4",
   "metadata": {},
   "outputs": [],
   "source": [
    "y_pred = ensemble_model.predict(X_test_scaled)"
   ]
  },
  {
   "cell_type": "markdown",
   "id": "d758ec96-f5e2-403c-9670-07ae896e27c2",
   "metadata": {},
   "source": [
    "# Evaluate the ensem le model"
   ]
  },
  {
   "cell_type": "code",
   "execution_count": 17,
   "id": "2764c083-5d2c-410c-9421-e16bc3b28402",
   "metadata": {},
   "outputs": [
    {
     "name": "stdout",
     "output_type": "stream",
     "text": [
      "Ensemble Model Classification Report:\n",
      "              precision    recall  f1-score   support\n",
      "\n",
      "           0       0.60      1.00      0.75         3\n",
      "           1       1.00      0.67      0.80         6\n",
      "\n",
      "    accuracy                           0.78         9\n",
      "   macro avg       0.80      0.83      0.77         9\n",
      "weighted avg       0.87      0.78      0.78         9\n",
      "\n"
     ]
    }
   ],
   "source": [
    "print(\"Ensemble Model Classification Report:\")\n",
    "print(classification_report(y_test, y_pred))"
   ]
  },
  {
   "cell_type": "code",
   "execution_count": 19,
   "id": "7af6cf08-8dd1-4b90-8093-d4ad92b34ff1",
   "metadata": {},
   "outputs": [],
   "source": [
    "### Create a Pickle file using serialization \n",
    "import pickle\n",
    "pickle_out = open(\"models.pkl\",\"wb\")\n",
    "pickle.dump(ensemble_model, pickle_out)\n",
    "pickle_out.close()"
   ]
  },
  {
   "cell_type": "code",
   "execution_count": 22,
   "id": "e08b05a3-18d3-434e-99b6-cf4f2382eee2",
   "metadata": {},
   "outputs": [
    {
     "data": {
      "text/plain": [
       "array([0])"
      ]
     },
     "execution_count": 22,
     "metadata": {},
     "output_type": "execute_result"
    }
   ],
   "source": [
    "ensemble_model.predict([[1,0,1,0,0,0,0,0,0,0,0,0,0,0,0,0,0,0,0,0,0,0,0,0,0,0,0,0,0,1,0,0,0,0,0,0,0,0,0,0,0,0,0,0,0,0,0,0,0,0,0,0,0,0,1,0,0,0,0,0,0,0,0,0,0,0,0,0,0,0,0,0,0,0,0,0,0,0,0,0,0,0,0,0,0,0,0,0,0,0,0,0,0,0,0,0,0,0,0,0,0,0,1,0,0,0,0,0,0,0,0,0,0,0,0,0,0,0,0,0,0,0,0,0,1,0,0,0,0,0,0,0,0,1,0,0,0,0,0,0,0,0,0,0,0,1,0,1,0,1,0,0,1,0,0,0,0,0,0,0,0,0,0,0,0,0\n",
    "]])"
   ]
  },
  {
   "cell_type": "code",
   "execution_count": null,
   "id": "dad202f5-a93b-4b47-9692-afd4df5df1d1",
   "metadata": {},
   "outputs": [],
   "source": []
  }
 ],
 "metadata": {
  "kernelspec": {
   "display_name": "Python 3 (ipykernel)",
   "language": "python",
   "name": "python3"
  },
  "language_info": {
   "codemirror_mode": {
    "name": "ipython",
    "version": 3
   },
   "file_extension": ".py",
   "mimetype": "text/x-python",
   "name": "python",
   "nbconvert_exporter": "python",
   "pygments_lexer": "ipython3",
   "version": "3.11.4"
  }
 },
 "nbformat": 4,
 "nbformat_minor": 5
}
