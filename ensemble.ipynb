{
 "cells": [
  {
   "cell_type": "code",
   "execution_count": 1,
   "id": "5f24c14b-fbc1-4a9c-94ba-7f91b2e608c5",
   "metadata": {},
   "outputs": [],
   "source": [
    "import numpy as np\n",
    "from sklearn.ensemble import RandomForestClassifier, VotingClassifier\n",
    "from sklearn.svm import SVC\n",
    "from sklearn.linear_model import LogisticRegression\n",
    "from sklearn.model_selection import train_test_split\n",
    "from sklearn.datasets import make_classification"
   ]
  },
  {
   "cell_type": "code",
   "execution_count": 2,
   "id": "42c805c2-2c71-4106-b40a-d1b66c33ac2d",
   "metadata": {},
   "outputs": [],
   "source": [
    "import pandas as pd"
   ]
  },
  {
   "cell_type": "code",
   "execution_count": 3,
   "id": "76ee85d7-145f-46c0-b307-e38a3a0c995c",
   "metadata": {},
   "outputs": [],
   "source": [
    "import warnings\n",
    "warnings.filterwarnings('ignore')\n",
    "import pandas as pd\n",
    "import numpy as np\n",
    "np.random.seed(1)\n",
    "import sklearn\n",
    "import sklearn.model_selection\n",
    "import sklearn.metrics\n",
    "import sklearn.ensemble\n",
    "import seaborn as sns\n",
    "sns.set()\n",
    "import matplotlib.pyplot as plt\n",
    "from matplotlib import rc\n",
    "%matplotlib inline"
   ]
  },
  {
   "cell_type": "code",
   "execution_count": 4,
   "id": "76fc3f02-070e-45fd-88db-f50c49abd0d4",
   "metadata": {},
   "outputs": [],
   "source": [
    "from sklearn import model_selection\n",
    "from sklearn.ensemble import RandomForestClassifier\n",
    "from sklearn.linear_model import LogisticRegression\n",
    "from sklearn.naive_bayes import GaussianNB\n",
    "from sklearn.naive_bayes import MultinomialNB\n",
    "from sklearn.tree import DecisionTreeClassifier\n",
    "from sklearn.svm import SVC\n",
    "from sklearn.neighbors import KNeighborsClassifier\n",
    "from sklearn.discriminant_analysis import LinearDiscriminantAnalysis\n",
    "from sklearn.ensemble import ExtraTreesClassifier\n",
    "from sklearn.ensemble import AdaBoostClassifier\n",
    "from sklearn.ensemble import GradientBoostingClassifier\n",
    "from sklearn.ensemble import BaggingClassifier\n",
    "from sklearn.metrics import roc_curve, roc_auc_score\n",
    "from sklearn.metrics import precision_recall_curve\n",
    "from sklearn.metrics import f1_score\n",
    "from sklearn.metrics import auc\n",
    "from sklearn.metrics import precision_score, recall_score\n",
    "import pickle\n",
    "from sklearn.model_selection import StratifiedKFold\n",
    "from sklearn.model_selection import LeaveOneOut \n",
    "from sklearn.model_selection import cross_val_score"
   ]
  },
  {
   "cell_type": "code",
   "execution_count": 5,
   "id": "d5129f5f-380b-4924-a7e8-747f4c8b4d4d",
   "metadata": {},
   "outputs": [],
   "source": [
    "models = []\n",
    "models.append(('LogR', LogisticRegression()))\n",
    "models.append(('gNB', GaussianNB()))\n",
    "models.append(('SVM', SVC(kernel = 'rbf', probability=True)))\n",
    "models.append(('DT', DecisionTreeClassifier(criterion = 'entropy', random_state=1)))\n",
    "models.append(('RF', RandomForestClassifier(n_estimators = 10, criterion = 'entropy', random_state=0)))\n",
    "models.append(('KNN', KNeighborsClassifier(n_neighbors = 5, metric = 'minkowski', p = 2)))\n",
    "models.append(('LDA', LinearDiscriminantAnalysis()))\n",
    "models.append(('mNB', MultinomialNB()))\n",
    "models.append(('ABC', AdaBoostClassifier()))\n",
    "models.append(('GBC', GradientBoostingClassifier()))\n",
    "models.append(('ETC', ExtraTreesClassifier()))\n",
    "models.append(('BC', BaggingClassifier()))"
   ]
  },
  {
   "cell_type": "code",
   "execution_count": 124,
   "id": "225bd234-94aa-400e-b870-539d89214c49",
   "metadata": {},
   "outputs": [],
   "source": [
    "dataset = ['https://raw.githubusercontent.com/safaet/antimicrobial_resistance/main/Data/Read%20Data/amr_ast_doripenem_PA.csv',\n",
    "          'https://raw.githubusercontent.com/safaet/antimicrobial_resistance/main/Data/Read%20Data/amr_ast_clindamycin_CJ.csv',\n",
    "          'https://raw.githubusercontent.com/safaet/antimicrobial_resistance/main/Data/Read%20Data/amr_ast_doripenem_EcS.csv',\n",
    "          'https://raw.githubusercontent.com/safaet/antimicrobial_resistance/main/Data/Read%20Data/amr_ast_doripenem_KN.csv',\n",
    "          'https://raw.githubusercontent.com/safaet/antimicrobial_resistance/main/Data/Read%20Data/amr_ast_ertapenem_EcS.csv',\n",
    "          'https://raw.githubusercontent.com/safaet/antimicrobial_resistance/main/Data/Read%20Data/amr_ast_ertapenem_KN.csv',\n",
    "          'https://raw.githubusercontent.com/safaet/antimicrobial_resistance/main/Data/Read%20Data/amr_ast_imipenem_EcS.csv',\n",
    "          'https://raw.githubusercontent.com/safaet/antimicrobial_resistance/main/Data/Read%20Data/amr_ast_imipenem_KN.csv',\n",
    "          'https://raw.githubusercontent.com/safaet/antimicrobial_resistance/main/Data/Read%20Data/amr_ast_kanamycin_SE.csv',\n",
    "          'https://raw.githubusercontent.com/safaet/antimicrobial_resistance/main/Data/Read%20Data/amr_ast_meropenem_EcS.csv',\n",
    "          'https://raw.githubusercontent.com/safaet/antimicrobial_resistance/main/Data/Read%20Data/amr_ast_meropenem_KN.csv',\n",
    "          'https://raw.githubusercontent.com/safaet/antimicrobial_resistance/main/Data/Read%20Data/amr_ast_streptomycin_SE.csv']"
   ]
  },
  {
   "cell_type": "code",
   "execution_count": 279,
   "id": "5cf8064f-9785-4d96-905e-674325bee6a5",
   "metadata": {},
   "outputs": [
    {
     "data": {
      "text/plain": [
       "12"
      ]
     },
     "execution_count": 279,
     "metadata": {},
     "output_type": "execute_result"
    }
   ],
   "source": [
    "len(dataset)"
   ]
  },
  {
   "cell_type": "code",
   "execution_count": 280,
   "id": "524c8f52-83a6-4b73-9d95-9980559bc4bf",
   "metadata": {},
   "outputs": [],
   "source": [
    "df = pd.read_csv(dataset[11])"
   ]
  },
  {
   "cell_type": "code",
   "execution_count": 281,
   "id": "e677b16e-0eee-462e-b192-9f345ad09bca",
   "metadata": {},
   "outputs": [
    {
     "data": {
      "text/html": [
       "<div>\n",
       "<style scoped>\n",
       "    .dataframe tbody tr th:only-of-type {\n",
       "        vertical-align: middle;\n",
       "    }\n",
       "\n",
       "    .dataframe tbody tr th {\n",
       "        vertical-align: top;\n",
       "    }\n",
       "\n",
       "    .dataframe thead th {\n",
       "        text-align: right;\n",
       "    }\n",
       "</style>\n",
       "<table border=\"1\" class=\"dataframe\">\n",
       "  <thead>\n",
       "    <tr style=\"text-align: right;\">\n",
       "      <th></th>\n",
       "      <th>Isolate</th>\n",
       "      <th>aac(2')-IIa=COMPLETE</th>\n",
       "      <th>aac(3)-II=COMPLETE</th>\n",
       "      <th>aac(3)-II=MISTRANSLATION</th>\n",
       "      <th>aac(3)-IIa=COMPLETE</th>\n",
       "      <th>aac(3)-IId=COMPLETE</th>\n",
       "      <th>aac(3)-IV=COMPLETE</th>\n",
       "      <th>aac(3)-IV=PARTIAL_END_OF_CONTIG</th>\n",
       "      <th>aac(3)-Id=COMPLETE</th>\n",
       "      <th>aac(3)-VIa=COMPLETE</th>\n",
       "      <th>...</th>\n",
       "      <th>tet(B)=MISTRANSLATION</th>\n",
       "      <th>tet(B)=PARTIAL</th>\n",
       "      <th>tet(B)=PARTIAL_END_OF_CONTIG</th>\n",
       "      <th>tet(C)=COMPLETE</th>\n",
       "      <th>tet(C)=PARTIAL</th>\n",
       "      <th>tet(C)=PARTIAL_END_OF_CONTIG</th>\n",
       "      <th>tet(D)=COMPLETE</th>\n",
       "      <th>tet(G)=COMPLETE</th>\n",
       "      <th>tet(M)=COMPLETE</th>\n",
       "      <th>streptomycin</th>\n",
       "    </tr>\n",
       "  </thead>\n",
       "  <tbody>\n",
       "    <tr>\n",
       "      <th>0</th>\n",
       "      <td>PDT000122226.2</td>\n",
       "      <td>1</td>\n",
       "      <td>0</td>\n",
       "      <td>0</td>\n",
       "      <td>0</td>\n",
       "      <td>0</td>\n",
       "      <td>0</td>\n",
       "      <td>0</td>\n",
       "      <td>0</td>\n",
       "      <td>0</td>\n",
       "      <td>...</td>\n",
       "      <td>0</td>\n",
       "      <td>0</td>\n",
       "      <td>0</td>\n",
       "      <td>0</td>\n",
       "      <td>0</td>\n",
       "      <td>0</td>\n",
       "      <td>0</td>\n",
       "      <td>0</td>\n",
       "      <td>0</td>\n",
       "      <td>0</td>\n",
       "    </tr>\n",
       "    <tr>\n",
       "      <th>1</th>\n",
       "      <td>PDT000095339.2</td>\n",
       "      <td>1</td>\n",
       "      <td>0</td>\n",
       "      <td>0</td>\n",
       "      <td>0</td>\n",
       "      <td>0</td>\n",
       "      <td>0</td>\n",
       "      <td>0</td>\n",
       "      <td>0</td>\n",
       "      <td>0</td>\n",
       "      <td>...</td>\n",
       "      <td>0</td>\n",
       "      <td>0</td>\n",
       "      <td>0</td>\n",
       "      <td>0</td>\n",
       "      <td>0</td>\n",
       "      <td>0</td>\n",
       "      <td>0</td>\n",
       "      <td>0</td>\n",
       "      <td>0</td>\n",
       "      <td>0</td>\n",
       "    </tr>\n",
       "    <tr>\n",
       "      <th>2</th>\n",
       "      <td>PDT000125726.2</td>\n",
       "      <td>1</td>\n",
       "      <td>0</td>\n",
       "      <td>0</td>\n",
       "      <td>0</td>\n",
       "      <td>0</td>\n",
       "      <td>0</td>\n",
       "      <td>0</td>\n",
       "      <td>0</td>\n",
       "      <td>0</td>\n",
       "      <td>...</td>\n",
       "      <td>0</td>\n",
       "      <td>0</td>\n",
       "      <td>0</td>\n",
       "      <td>0</td>\n",
       "      <td>0</td>\n",
       "      <td>0</td>\n",
       "      <td>0</td>\n",
       "      <td>0</td>\n",
       "      <td>0</td>\n",
       "      <td>0</td>\n",
       "    </tr>\n",
       "    <tr>\n",
       "      <th>3</th>\n",
       "      <td>PDT000107045.2</td>\n",
       "      <td>1</td>\n",
       "      <td>0</td>\n",
       "      <td>0</td>\n",
       "      <td>0</td>\n",
       "      <td>0</td>\n",
       "      <td>0</td>\n",
       "      <td>0</td>\n",
       "      <td>0</td>\n",
       "      <td>0</td>\n",
       "      <td>...</td>\n",
       "      <td>0</td>\n",
       "      <td>0</td>\n",
       "      <td>0</td>\n",
       "      <td>0</td>\n",
       "      <td>0</td>\n",
       "      <td>0</td>\n",
       "      <td>0</td>\n",
       "      <td>0</td>\n",
       "      <td>0</td>\n",
       "      <td>0</td>\n",
       "    </tr>\n",
       "    <tr>\n",
       "      <th>4</th>\n",
       "      <td>PDT000111605.2</td>\n",
       "      <td>1</td>\n",
       "      <td>0</td>\n",
       "      <td>0</td>\n",
       "      <td>0</td>\n",
       "      <td>0</td>\n",
       "      <td>0</td>\n",
       "      <td>0</td>\n",
       "      <td>0</td>\n",
       "      <td>0</td>\n",
       "      <td>...</td>\n",
       "      <td>0</td>\n",
       "      <td>0</td>\n",
       "      <td>0</td>\n",
       "      <td>0</td>\n",
       "      <td>0</td>\n",
       "      <td>0</td>\n",
       "      <td>0</td>\n",
       "      <td>0</td>\n",
       "      <td>0</td>\n",
       "      <td>0</td>\n",
       "    </tr>\n",
       "  </tbody>\n",
       "</table>\n",
       "<p>5 rows × 181 columns</p>\n",
       "</div>"
      ],
      "text/plain": [
       "          Isolate  aac(2')-IIa=COMPLETE  aac(3)-II=COMPLETE  \\\n",
       "0  PDT000122226.2                     1                   0   \n",
       "1  PDT000095339.2                     1                   0   \n",
       "2  PDT000125726.2                     1                   0   \n",
       "3  PDT000107045.2                     1                   0   \n",
       "4  PDT000111605.2                     1                   0   \n",
       "\n",
       "   aac(3)-II=MISTRANSLATION  aac(3)-IIa=COMPLETE  aac(3)-IId=COMPLETE  \\\n",
       "0                         0                    0                    0   \n",
       "1                         0                    0                    0   \n",
       "2                         0                    0                    0   \n",
       "3                         0                    0                    0   \n",
       "4                         0                    0                    0   \n",
       "\n",
       "   aac(3)-IV=COMPLETE  aac(3)-IV=PARTIAL_END_OF_CONTIG  aac(3)-Id=COMPLETE  \\\n",
       "0                   0                                0                   0   \n",
       "1                   0                                0                   0   \n",
       "2                   0                                0                   0   \n",
       "3                   0                                0                   0   \n",
       "4                   0                                0                   0   \n",
       "\n",
       "   aac(3)-VIa=COMPLETE  ...  tet(B)=MISTRANSLATION  tet(B)=PARTIAL  \\\n",
       "0                    0  ...                      0               0   \n",
       "1                    0  ...                      0               0   \n",
       "2                    0  ...                      0               0   \n",
       "3                    0  ...                      0               0   \n",
       "4                    0  ...                      0               0   \n",
       "\n",
       "   tet(B)=PARTIAL_END_OF_CONTIG  tet(C)=COMPLETE  tet(C)=PARTIAL  \\\n",
       "0                             0                0               0   \n",
       "1                             0                0               0   \n",
       "2                             0                0               0   \n",
       "3                             0                0               0   \n",
       "4                             0                0               0   \n",
       "\n",
       "   tet(C)=PARTIAL_END_OF_CONTIG  tet(D)=COMPLETE  tet(G)=COMPLETE  \\\n",
       "0                             0                0                0   \n",
       "1                             0                0                0   \n",
       "2                             0                0                0   \n",
       "3                             0                0                0   \n",
       "4                             0                0                0   \n",
       "\n",
       "   tet(M)=COMPLETE  streptomycin  \n",
       "0                0             0  \n",
       "1                0             0  \n",
       "2                0             0  \n",
       "3                0             0  \n",
       "4                0             0  \n",
       "\n",
       "[5 rows x 181 columns]"
      ]
     },
     "execution_count": 281,
     "metadata": {},
     "output_type": "execute_result"
    }
   ],
   "source": [
    "df.head()"
   ]
  },
  {
   "cell_type": "code",
   "execution_count": 282,
   "id": "99491b53-537a-401a-bc49-75bf7937e12a",
   "metadata": {},
   "outputs": [],
   "source": [
    "file_out = 'result_csv_file/amr_ast_streptomycin_SE_result.csv'"
   ]
  },
  {
   "cell_type": "code",
   "execution_count": 283,
   "id": "fc2093d0-20c4-4fae-80ad-ad3f60b001e0",
   "metadata": {},
   "outputs": [],
   "source": [
    "# slice dataset and store in df2\n",
    "df2 = df.iloc[:, 1:-1]"
   ]
  },
  {
   "cell_type": "code",
   "execution_count": 284,
   "id": "454a3a23-2f8f-462a-8b85-1c6f4c5dca1c",
   "metadata": {
    "scrolled": true
   },
   "outputs": [
    {
     "data": {
      "text/html": [
       "<div>\n",
       "<style scoped>\n",
       "    .dataframe tbody tr th:only-of-type {\n",
       "        vertical-align: middle;\n",
       "    }\n",
       "\n",
       "    .dataframe tbody tr th {\n",
       "        vertical-align: top;\n",
       "    }\n",
       "\n",
       "    .dataframe thead th {\n",
       "        text-align: right;\n",
       "    }\n",
       "</style>\n",
       "<table border=\"1\" class=\"dataframe\">\n",
       "  <thead>\n",
       "    <tr style=\"text-align: right;\">\n",
       "      <th></th>\n",
       "      <th>aac(2')-IIa=COMPLETE</th>\n",
       "      <th>aac(3)-II=COMPLETE</th>\n",
       "      <th>aac(3)-II=MISTRANSLATION</th>\n",
       "      <th>aac(3)-IIa=COMPLETE</th>\n",
       "      <th>aac(3)-IId=COMPLETE</th>\n",
       "      <th>aac(3)-IV=COMPLETE</th>\n",
       "      <th>aac(3)-IV=PARTIAL_END_OF_CONTIG</th>\n",
       "      <th>aac(3)-Id=COMPLETE</th>\n",
       "      <th>aac(3)-VIa=COMPLETE</th>\n",
       "      <th>aac(3)-VIa=PARTIAL_END_OF_CONTIG</th>\n",
       "      <th>...</th>\n",
       "      <th>tet(B)=COMPLETE</th>\n",
       "      <th>tet(B)=MISTRANSLATION</th>\n",
       "      <th>tet(B)=PARTIAL</th>\n",
       "      <th>tet(B)=PARTIAL_END_OF_CONTIG</th>\n",
       "      <th>tet(C)=COMPLETE</th>\n",
       "      <th>tet(C)=PARTIAL</th>\n",
       "      <th>tet(C)=PARTIAL_END_OF_CONTIG</th>\n",
       "      <th>tet(D)=COMPLETE</th>\n",
       "      <th>tet(G)=COMPLETE</th>\n",
       "      <th>tet(M)=COMPLETE</th>\n",
       "    </tr>\n",
       "  </thead>\n",
       "  <tbody>\n",
       "    <tr>\n",
       "      <th>0</th>\n",
       "      <td>1</td>\n",
       "      <td>0</td>\n",
       "      <td>0</td>\n",
       "      <td>0</td>\n",
       "      <td>0</td>\n",
       "      <td>0</td>\n",
       "      <td>0</td>\n",
       "      <td>0</td>\n",
       "      <td>0</td>\n",
       "      <td>0</td>\n",
       "      <td>...</td>\n",
       "      <td>0</td>\n",
       "      <td>0</td>\n",
       "      <td>0</td>\n",
       "      <td>0</td>\n",
       "      <td>0</td>\n",
       "      <td>0</td>\n",
       "      <td>0</td>\n",
       "      <td>0</td>\n",
       "      <td>0</td>\n",
       "      <td>0</td>\n",
       "    </tr>\n",
       "    <tr>\n",
       "      <th>1</th>\n",
       "      <td>1</td>\n",
       "      <td>0</td>\n",
       "      <td>0</td>\n",
       "      <td>0</td>\n",
       "      <td>0</td>\n",
       "      <td>0</td>\n",
       "      <td>0</td>\n",
       "      <td>0</td>\n",
       "      <td>0</td>\n",
       "      <td>0</td>\n",
       "      <td>...</td>\n",
       "      <td>0</td>\n",
       "      <td>0</td>\n",
       "      <td>0</td>\n",
       "      <td>0</td>\n",
       "      <td>0</td>\n",
       "      <td>0</td>\n",
       "      <td>0</td>\n",
       "      <td>0</td>\n",
       "      <td>0</td>\n",
       "      <td>0</td>\n",
       "    </tr>\n",
       "    <tr>\n",
       "      <th>2</th>\n",
       "      <td>1</td>\n",
       "      <td>0</td>\n",
       "      <td>0</td>\n",
       "      <td>0</td>\n",
       "      <td>0</td>\n",
       "      <td>0</td>\n",
       "      <td>0</td>\n",
       "      <td>0</td>\n",
       "      <td>0</td>\n",
       "      <td>0</td>\n",
       "      <td>...</td>\n",
       "      <td>0</td>\n",
       "      <td>0</td>\n",
       "      <td>0</td>\n",
       "      <td>0</td>\n",
       "      <td>0</td>\n",
       "      <td>0</td>\n",
       "      <td>0</td>\n",
       "      <td>0</td>\n",
       "      <td>0</td>\n",
       "      <td>0</td>\n",
       "    </tr>\n",
       "    <tr>\n",
       "      <th>3</th>\n",
       "      <td>1</td>\n",
       "      <td>0</td>\n",
       "      <td>0</td>\n",
       "      <td>0</td>\n",
       "      <td>0</td>\n",
       "      <td>0</td>\n",
       "      <td>0</td>\n",
       "      <td>0</td>\n",
       "      <td>0</td>\n",
       "      <td>0</td>\n",
       "      <td>...</td>\n",
       "      <td>0</td>\n",
       "      <td>0</td>\n",
       "      <td>0</td>\n",
       "      <td>0</td>\n",
       "      <td>0</td>\n",
       "      <td>0</td>\n",
       "      <td>0</td>\n",
       "      <td>0</td>\n",
       "      <td>0</td>\n",
       "      <td>0</td>\n",
       "    </tr>\n",
       "    <tr>\n",
       "      <th>4</th>\n",
       "      <td>1</td>\n",
       "      <td>0</td>\n",
       "      <td>0</td>\n",
       "      <td>0</td>\n",
       "      <td>0</td>\n",
       "      <td>0</td>\n",
       "      <td>0</td>\n",
       "      <td>0</td>\n",
       "      <td>0</td>\n",
       "      <td>0</td>\n",
       "      <td>...</td>\n",
       "      <td>0</td>\n",
       "      <td>0</td>\n",
       "      <td>0</td>\n",
       "      <td>0</td>\n",
       "      <td>0</td>\n",
       "      <td>0</td>\n",
       "      <td>0</td>\n",
       "      <td>0</td>\n",
       "      <td>0</td>\n",
       "      <td>0</td>\n",
       "    </tr>\n",
       "  </tbody>\n",
       "</table>\n",
       "<p>5 rows × 179 columns</p>\n",
       "</div>"
      ],
      "text/plain": [
       "   aac(2')-IIa=COMPLETE  aac(3)-II=COMPLETE  aac(3)-II=MISTRANSLATION  \\\n",
       "0                     1                   0                         0   \n",
       "1                     1                   0                         0   \n",
       "2                     1                   0                         0   \n",
       "3                     1                   0                         0   \n",
       "4                     1                   0                         0   \n",
       "\n",
       "   aac(3)-IIa=COMPLETE  aac(3)-IId=COMPLETE  aac(3)-IV=COMPLETE  \\\n",
       "0                    0                    0                   0   \n",
       "1                    0                    0                   0   \n",
       "2                    0                    0                   0   \n",
       "3                    0                    0                   0   \n",
       "4                    0                    0                   0   \n",
       "\n",
       "   aac(3)-IV=PARTIAL_END_OF_CONTIG  aac(3)-Id=COMPLETE  aac(3)-VIa=COMPLETE  \\\n",
       "0                                0                   0                    0   \n",
       "1                                0                   0                    0   \n",
       "2                                0                   0                    0   \n",
       "3                                0                   0                    0   \n",
       "4                                0                   0                    0   \n",
       "\n",
       "   aac(3)-VIa=PARTIAL_END_OF_CONTIG  ...  tet(B)=COMPLETE  \\\n",
       "0                                 0  ...                0   \n",
       "1                                 0  ...                0   \n",
       "2                                 0  ...                0   \n",
       "3                                 0  ...                0   \n",
       "4                                 0  ...                0   \n",
       "\n",
       "   tet(B)=MISTRANSLATION  tet(B)=PARTIAL  tet(B)=PARTIAL_END_OF_CONTIG  \\\n",
       "0                      0               0                             0   \n",
       "1                      0               0                             0   \n",
       "2                      0               0                             0   \n",
       "3                      0               0                             0   \n",
       "4                      0               0                             0   \n",
       "\n",
       "   tet(C)=COMPLETE  tet(C)=PARTIAL  tet(C)=PARTIAL_END_OF_CONTIG  \\\n",
       "0                0               0                             0   \n",
       "1                0               0                             0   \n",
       "2                0               0                             0   \n",
       "3                0               0                             0   \n",
       "4                0               0                             0   \n",
       "\n",
       "   tet(D)=COMPLETE  tet(G)=COMPLETE  tet(M)=COMPLETE  \n",
       "0                0                0                0  \n",
       "1                0                0                0  \n",
       "2                0                0                0  \n",
       "3                0                0                0  \n",
       "4                0                0                0  \n",
       "\n",
       "[5 rows x 179 columns]"
      ]
     },
     "execution_count": 284,
     "metadata": {},
     "output_type": "execute_result"
    }
   ],
   "source": [
    "df2.head()"
   ]
  },
  {
   "cell_type": "code",
   "execution_count": 285,
   "id": "70452709-f693-42ee-bd0a-a0810869a265",
   "metadata": {},
   "outputs": [],
   "source": [
    "df['sum'] = df2.sum(axis=1)"
   ]
  },
  {
   "cell_type": "code",
   "execution_count": 286,
   "id": "043bc97b-4ce9-44cb-b7be-6fce3b3b8df7",
   "metadata": {
    "scrolled": true
   },
   "outputs": [
    {
     "data": {
      "text/html": [
       "<div>\n",
       "<style scoped>\n",
       "    .dataframe tbody tr th:only-of-type {\n",
       "        vertical-align: middle;\n",
       "    }\n",
       "\n",
       "    .dataframe tbody tr th {\n",
       "        vertical-align: top;\n",
       "    }\n",
       "\n",
       "    .dataframe thead th {\n",
       "        text-align: right;\n",
       "    }\n",
       "</style>\n",
       "<table border=\"1\" class=\"dataframe\">\n",
       "  <thead>\n",
       "    <tr style=\"text-align: right;\">\n",
       "      <th></th>\n",
       "      <th>Isolate</th>\n",
       "      <th>aac(2')-IIa=COMPLETE</th>\n",
       "      <th>aac(3)-II=COMPLETE</th>\n",
       "      <th>aac(3)-II=MISTRANSLATION</th>\n",
       "      <th>aac(3)-IIa=COMPLETE</th>\n",
       "      <th>aac(3)-IId=COMPLETE</th>\n",
       "      <th>aac(3)-IV=COMPLETE</th>\n",
       "      <th>aac(3)-IV=PARTIAL_END_OF_CONTIG</th>\n",
       "      <th>aac(3)-Id=COMPLETE</th>\n",
       "      <th>aac(3)-VIa=COMPLETE</th>\n",
       "      <th>...</th>\n",
       "      <th>tet(B)=PARTIAL</th>\n",
       "      <th>tet(B)=PARTIAL_END_OF_CONTIG</th>\n",
       "      <th>tet(C)=COMPLETE</th>\n",
       "      <th>tet(C)=PARTIAL</th>\n",
       "      <th>tet(C)=PARTIAL_END_OF_CONTIG</th>\n",
       "      <th>tet(D)=COMPLETE</th>\n",
       "      <th>tet(G)=COMPLETE</th>\n",
       "      <th>tet(M)=COMPLETE</th>\n",
       "      <th>streptomycin</th>\n",
       "      <th>sum</th>\n",
       "    </tr>\n",
       "  </thead>\n",
       "  <tbody>\n",
       "    <tr>\n",
       "      <th>0</th>\n",
       "      <td>PDT000122226.2</td>\n",
       "      <td>1</td>\n",
       "      <td>0</td>\n",
       "      <td>0</td>\n",
       "      <td>0</td>\n",
       "      <td>0</td>\n",
       "      <td>0</td>\n",
       "      <td>0</td>\n",
       "      <td>0</td>\n",
       "      <td>0</td>\n",
       "      <td>...</td>\n",
       "      <td>0</td>\n",
       "      <td>0</td>\n",
       "      <td>0</td>\n",
       "      <td>0</td>\n",
       "      <td>0</td>\n",
       "      <td>0</td>\n",
       "      <td>0</td>\n",
       "      <td>0</td>\n",
       "      <td>0</td>\n",
       "      <td>6</td>\n",
       "    </tr>\n",
       "    <tr>\n",
       "      <th>1</th>\n",
       "      <td>PDT000095339.2</td>\n",
       "      <td>1</td>\n",
       "      <td>0</td>\n",
       "      <td>0</td>\n",
       "      <td>0</td>\n",
       "      <td>0</td>\n",
       "      <td>0</td>\n",
       "      <td>0</td>\n",
       "      <td>0</td>\n",
       "      <td>0</td>\n",
       "      <td>...</td>\n",
       "      <td>0</td>\n",
       "      <td>0</td>\n",
       "      <td>0</td>\n",
       "      <td>0</td>\n",
       "      <td>0</td>\n",
       "      <td>0</td>\n",
       "      <td>0</td>\n",
       "      <td>0</td>\n",
       "      <td>0</td>\n",
       "      <td>4</td>\n",
       "    </tr>\n",
       "    <tr>\n",
       "      <th>2</th>\n",
       "      <td>PDT000125726.2</td>\n",
       "      <td>1</td>\n",
       "      <td>0</td>\n",
       "      <td>0</td>\n",
       "      <td>0</td>\n",
       "      <td>0</td>\n",
       "      <td>0</td>\n",
       "      <td>0</td>\n",
       "      <td>0</td>\n",
       "      <td>0</td>\n",
       "      <td>...</td>\n",
       "      <td>0</td>\n",
       "      <td>0</td>\n",
       "      <td>0</td>\n",
       "      <td>0</td>\n",
       "      <td>0</td>\n",
       "      <td>0</td>\n",
       "      <td>0</td>\n",
       "      <td>0</td>\n",
       "      <td>0</td>\n",
       "      <td>4</td>\n",
       "    </tr>\n",
       "    <tr>\n",
       "      <th>3</th>\n",
       "      <td>PDT000107045.2</td>\n",
       "      <td>1</td>\n",
       "      <td>0</td>\n",
       "      <td>0</td>\n",
       "      <td>0</td>\n",
       "      <td>0</td>\n",
       "      <td>0</td>\n",
       "      <td>0</td>\n",
       "      <td>0</td>\n",
       "      <td>0</td>\n",
       "      <td>...</td>\n",
       "      <td>0</td>\n",
       "      <td>0</td>\n",
       "      <td>0</td>\n",
       "      <td>0</td>\n",
       "      <td>0</td>\n",
       "      <td>0</td>\n",
       "      <td>0</td>\n",
       "      <td>0</td>\n",
       "      <td>0</td>\n",
       "      <td>4</td>\n",
       "    </tr>\n",
       "    <tr>\n",
       "      <th>4</th>\n",
       "      <td>PDT000111605.2</td>\n",
       "      <td>1</td>\n",
       "      <td>0</td>\n",
       "      <td>0</td>\n",
       "      <td>0</td>\n",
       "      <td>0</td>\n",
       "      <td>0</td>\n",
       "      <td>0</td>\n",
       "      <td>0</td>\n",
       "      <td>0</td>\n",
       "      <td>...</td>\n",
       "      <td>0</td>\n",
       "      <td>0</td>\n",
       "      <td>0</td>\n",
       "      <td>0</td>\n",
       "      <td>0</td>\n",
       "      <td>0</td>\n",
       "      <td>0</td>\n",
       "      <td>0</td>\n",
       "      <td>0</td>\n",
       "      <td>4</td>\n",
       "    </tr>\n",
       "  </tbody>\n",
       "</table>\n",
       "<p>5 rows × 182 columns</p>\n",
       "</div>"
      ],
      "text/plain": [
       "          Isolate  aac(2')-IIa=COMPLETE  aac(3)-II=COMPLETE  \\\n",
       "0  PDT000122226.2                     1                   0   \n",
       "1  PDT000095339.2                     1                   0   \n",
       "2  PDT000125726.2                     1                   0   \n",
       "3  PDT000107045.2                     1                   0   \n",
       "4  PDT000111605.2                     1                   0   \n",
       "\n",
       "   aac(3)-II=MISTRANSLATION  aac(3)-IIa=COMPLETE  aac(3)-IId=COMPLETE  \\\n",
       "0                         0                    0                    0   \n",
       "1                         0                    0                    0   \n",
       "2                         0                    0                    0   \n",
       "3                         0                    0                    0   \n",
       "4                         0                    0                    0   \n",
       "\n",
       "   aac(3)-IV=COMPLETE  aac(3)-IV=PARTIAL_END_OF_CONTIG  aac(3)-Id=COMPLETE  \\\n",
       "0                   0                                0                   0   \n",
       "1                   0                                0                   0   \n",
       "2                   0                                0                   0   \n",
       "3                   0                                0                   0   \n",
       "4                   0                                0                   0   \n",
       "\n",
       "   aac(3)-VIa=COMPLETE  ...  tet(B)=PARTIAL  tet(B)=PARTIAL_END_OF_CONTIG  \\\n",
       "0                    0  ...               0                             0   \n",
       "1                    0  ...               0                             0   \n",
       "2                    0  ...               0                             0   \n",
       "3                    0  ...               0                             0   \n",
       "4                    0  ...               0                             0   \n",
       "\n",
       "   tet(C)=COMPLETE  tet(C)=PARTIAL  tet(C)=PARTIAL_END_OF_CONTIG  \\\n",
       "0                0               0                             0   \n",
       "1                0               0                             0   \n",
       "2                0               0                             0   \n",
       "3                0               0                             0   \n",
       "4                0               0                             0   \n",
       "\n",
       "   tet(D)=COMPLETE  tet(G)=COMPLETE  tet(M)=COMPLETE  streptomycin  sum  \n",
       "0                0                0                0             0    6  \n",
       "1                0                0                0             0    4  \n",
       "2                0                0                0             0    4  \n",
       "3                0                0                0             0    4  \n",
       "4                0                0                0             0    4  \n",
       "\n",
       "[5 rows x 182 columns]"
      ]
     },
     "execution_count": 286,
     "metadata": {},
     "output_type": "execute_result"
    }
   ],
   "source": [
    "df.head()"
   ]
  },
  {
   "cell_type": "code",
   "execution_count": 287,
   "id": "cf13abb3-6c68-4c77-bcad-bb54e4bdecb3",
   "metadata": {
    "scrolled": true
   },
   "outputs": [],
   "source": [
    "y = df.pop('streptomycin')"
   ]
  },
  {
   "cell_type": "code",
   "execution_count": 288,
   "id": "5ac5742f-ef5e-4619-a313-153c74dc86ea",
   "metadata": {},
   "outputs": [],
   "source": [
    "from sklearn.preprocessing import MinMaxScaler"
   ]
  },
  {
   "cell_type": "code",
   "execution_count": 289,
   "id": "9722cdf0-9a72-43be-a47b-4c66fd82df71",
   "metadata": {},
   "outputs": [],
   "source": [
    "scaler = MinMaxScaler()"
   ]
  },
  {
   "cell_type": "code",
   "execution_count": 290,
   "id": "8991f49d-e27d-4a44-b923-3a676b2f7743",
   "metadata": {
    "scrolled": true
   },
   "outputs": [],
   "source": [
    "scaled_column = scaler.fit_transform(df['sum'].values.reshape(-1, 1))"
   ]
  },
  {
   "cell_type": "code",
   "execution_count": 291,
   "id": "38771368-1601-4be6-8b80-52300e0ab4cb",
   "metadata": {},
   "outputs": [],
   "source": [
    "df['sum'] = scaled_column"
   ]
  },
  {
   "cell_type": "code",
   "execution_count": 292,
   "id": "b885d077-963c-4fc8-93a4-0d415b044e76",
   "metadata": {
    "scrolled": true
   },
   "outputs": [
    {
     "data": {
      "text/plain": [
       "(1042, 181)"
      ]
     },
     "execution_count": 292,
     "metadata": {},
     "output_type": "execute_result"
    }
   ],
   "source": [
    "df.shape\n"
   ]
  },
  {
   "cell_type": "code",
   "execution_count": 293,
   "id": "804a0048-978d-47d1-a298-5ef93f668100",
   "metadata": {},
   "outputs": [],
   "source": [
    "# import matplotlib.pyplot as plt"
   ]
  },
  {
   "cell_type": "code",
   "execution_count": 294,
   "id": "a957d809-2d85-4e8e-bca2-d586e50795e2",
   "metadata": {},
   "outputs": [],
   "source": [
    "X = df.iloc[:,1:]\n",
    "# y = df.iloc[:, -1]"
   ]
  },
  {
   "cell_type": "code",
   "execution_count": 295,
   "id": "c4427514-d426-4de8-a2d9-5af47389d64a",
   "metadata": {},
   "outputs": [],
   "source": [
    "# X.pop(\"aac(6')-29b=COMPLETE\")"
   ]
  },
  {
   "cell_type": "code",
   "execution_count": 296,
   "id": "9e59475d-83ff-4870-b4a5-37cfab943dc3",
   "metadata": {},
   "outputs": [],
   "source": [
    "X_train, X_test, y_train, y_test = train_test_split(X, y, test_size=0.2, random_state=42)"
   ]
  },
  {
   "cell_type": "markdown",
   "id": "8b5bb7f1-e7d0-4d85-bdf7-4e0792ab69d2",
   "metadata": {},
   "source": [
    "# Algorithm Implement"
   ]
  },
  {
   "cell_type": "code",
   "execution_count": 297,
   "id": "405ac621-8ba3-40c1-b6b8-cd198032c843",
   "metadata": {},
   "outputs": [],
   "source": [
    "mode = []\n",
    "tr_precision=[]\n",
    "tr_recall = []\n",
    "tr_f1 = []\n",
    "tr_accu = []\n",
    "\n",
    "te_precision=[]\n",
    "te_recall = []\n",
    "te_f1 = []\n",
    "te_accu = []"
   ]
  },
  {
   "cell_type": "code",
   "execution_count": 298,
   "id": "45799adf-34b3-42d8-8fd3-b5b3344a8673",
   "metadata": {},
   "outputs": [],
   "source": [
    "for name, model in models:\n",
    "    model = model.fit(X_train, y_train)\n",
    "    mode.append(name)\n",
    "    \n",
    "    Y_train_pred = model.predict(X_train)\n",
    "    Tr_precision = precision_score(y_train, Y_train_pred, average='macro').round(3)\n",
    "    tr_precision.append(Tr_precision)\n",
    "    \n",
    "    Tr_recall = recall_score(y_train, Y_train_pred, average='macro').round(3)\n",
    "    tr_recall.append(Tr_recall)\n",
    "    \n",
    "    Tr_f1 = f1_score (y_train, Y_train_pred, average='macro').round(3)\n",
    "    tr_f1.append(Tr_f1)\n",
    "    \n",
    "    accuracy = model.score(X_train, y_train).round(3)\n",
    "    tr_accu.append(accuracy)\n",
    "\n",
    "    # dict = {'classifier': name, f'tr_precision{i+1}': Tr_precision, f'tr_recall{i+1}': Tr_recall, f'tr_f1 {i+1}':Tr_f1}\n",
    "\n",
    "    # df = pd.DataFrame(dict)\n",
    "\n",
    "    # print('Model_Name: ', model)\n",
    "    # print('Tr_precision: ', Tr_precision)\n",
    "    # print('Tr_recall: ', Tr_recall)\n",
    "    # print('Tr_f1: ', Tr_f1)    \n",
    "    # print(\"--------------\")\n",
    "\n",
    "    # i+=1"
   ]
  },
  {
   "cell_type": "code",
   "execution_count": 299,
   "id": "4e62eae5-0275-4efb-9478-e15a0eea515e",
   "metadata": {},
   "outputs": [],
   "source": [
    "for name, model in models:\n",
    "    model = model.fit(X_train, y_train)\n",
    "    # mode.append(model)\n",
    "    \n",
    "    Y_test_pred = model.predict(X_test)\n",
    "    report = sklearn.metrics.classification_report(y_test, Y_test_pred)\n",
    "    Te_precision = precision_score(y_test, Y_test_pred, average='macro').round(3)\n",
    "    te_precision.append(Te_precision)\n",
    "    \n",
    "    Te_recall = recall_score(y_test, Y_test_pred, average='macro').round(3)\n",
    "    te_recall.append(Te_recall)\n",
    "    \n",
    "    Te_f1 = f1_score (y_test, Y_test_pred, average='macro').round(3)\n",
    "    te_f1.append(Te_f1)\n",
    "    \n",
    "    accuracy = model.score(X_test, y_test).round(3)\n",
    "    te_accu.append(accuracy)\n",
    "\n",
    "    # print('Model_Name: ', model)\n",
    "    # print(\"Report: \", report)\n",
    "    # print('Te_precision: ', Te_precision)\n",
    "    # print('Te_recall: ', Te_recall)\n",
    "    # print('Te_f1: ', Te_f1)\n",
    "    # print(\"--------------\")"
   ]
  },
  {
   "cell_type": "code",
   "execution_count": 300,
   "id": "fa8205e6-9d92-4286-b156-6030cb347890",
   "metadata": {},
   "outputs": [],
   "source": [
    "dict = {'classifier': mode, 'tr_precision': tr_precision, 'tr_recall': tr_recall, 'tr_f1 ': tr_f1,'tr_accuracy': tr_accu,\n",
    "         'te_precision': te_precision, 'te_recall': te_recall, 'te_f1 ': te_f1, 'te_accuracy': te_accu}\n",
    "\n",
    "df = pd.DataFrame(dict)"
   ]
  },
  {
   "cell_type": "code",
   "execution_count": 301,
   "id": "6cd1d883-6ce6-4053-8741-150f18902179",
   "metadata": {},
   "outputs": [
    {
     "data": {
      "text/html": [
       "<div>\n",
       "<style scoped>\n",
       "    .dataframe tbody tr th:only-of-type {\n",
       "        vertical-align: middle;\n",
       "    }\n",
       "\n",
       "    .dataframe tbody tr th {\n",
       "        vertical-align: top;\n",
       "    }\n",
       "\n",
       "    .dataframe thead th {\n",
       "        text-align: right;\n",
       "    }\n",
       "</style>\n",
       "<table border=\"1\" class=\"dataframe\">\n",
       "  <thead>\n",
       "    <tr style=\"text-align: right;\">\n",
       "      <th></th>\n",
       "      <th>classifier</th>\n",
       "      <th>tr_precision</th>\n",
       "      <th>tr_recall</th>\n",
       "      <th>tr_f1</th>\n",
       "      <th>tr_accuracy</th>\n",
       "      <th>te_precision</th>\n",
       "      <th>te_recall</th>\n",
       "      <th>te_f1</th>\n",
       "      <th>te_accuracy</th>\n",
       "    </tr>\n",
       "  </thead>\n",
       "  <tbody>\n",
       "    <tr>\n",
       "      <th>0</th>\n",
       "      <td>LogR</td>\n",
       "      <td>0.930</td>\n",
       "      <td>0.923</td>\n",
       "      <td>0.925</td>\n",
       "      <td>0.926</td>\n",
       "      <td>0.918</td>\n",
       "      <td>0.916</td>\n",
       "      <td>0.914</td>\n",
       "      <td>0.914</td>\n",
       "    </tr>\n",
       "    <tr>\n",
       "      <th>1</th>\n",
       "      <td>gNB</td>\n",
       "      <td>0.897</td>\n",
       "      <td>0.858</td>\n",
       "      <td>0.862</td>\n",
       "      <td>0.867</td>\n",
       "      <td>0.885</td>\n",
       "      <td>0.862</td>\n",
       "      <td>0.855</td>\n",
       "      <td>0.856</td>\n",
       "    </tr>\n",
       "    <tr>\n",
       "      <th>2</th>\n",
       "      <td>SVM</td>\n",
       "      <td>0.948</td>\n",
       "      <td>0.943</td>\n",
       "      <td>0.944</td>\n",
       "      <td>0.945</td>\n",
       "      <td>0.953</td>\n",
       "      <td>0.953</td>\n",
       "      <td>0.952</td>\n",
       "      <td>0.952</td>\n",
       "    </tr>\n",
       "    <tr>\n",
       "      <th>3</th>\n",
       "      <td>DT</td>\n",
       "      <td>0.962</td>\n",
       "      <td>0.957</td>\n",
       "      <td>0.959</td>\n",
       "      <td>0.959</td>\n",
       "      <td>0.959</td>\n",
       "      <td>0.959</td>\n",
       "      <td>0.957</td>\n",
       "      <td>0.957</td>\n",
       "    </tr>\n",
       "    <tr>\n",
       "      <th>4</th>\n",
       "      <td>RF</td>\n",
       "      <td>0.960</td>\n",
       "      <td>0.955</td>\n",
       "      <td>0.956</td>\n",
       "      <td>0.957</td>\n",
       "      <td>0.958</td>\n",
       "      <td>0.958</td>\n",
       "      <td>0.957</td>\n",
       "      <td>0.957</td>\n",
       "    </tr>\n",
       "    <tr>\n",
       "      <th>5</th>\n",
       "      <td>KNN</td>\n",
       "      <td>0.929</td>\n",
       "      <td>0.917</td>\n",
       "      <td>0.920</td>\n",
       "      <td>0.921</td>\n",
       "      <td>0.929</td>\n",
       "      <td>0.926</td>\n",
       "      <td>0.923</td>\n",
       "      <td>0.923</td>\n",
       "    </tr>\n",
       "    <tr>\n",
       "      <th>6</th>\n",
       "      <td>LDA</td>\n",
       "      <td>0.935</td>\n",
       "      <td>0.926</td>\n",
       "      <td>0.928</td>\n",
       "      <td>0.929</td>\n",
       "      <td>0.919</td>\n",
       "      <td>0.917</td>\n",
       "      <td>0.914</td>\n",
       "      <td>0.914</td>\n",
       "    </tr>\n",
       "    <tr>\n",
       "      <th>7</th>\n",
       "      <td>mNB</td>\n",
       "      <td>0.874</td>\n",
       "      <td>0.869</td>\n",
       "      <td>0.870</td>\n",
       "      <td>0.872</td>\n",
       "      <td>0.866</td>\n",
       "      <td>0.867</td>\n",
       "      <td>0.866</td>\n",
       "      <td>0.866</td>\n",
       "    </tr>\n",
       "    <tr>\n",
       "      <th>8</th>\n",
       "      <td>ABC</td>\n",
       "      <td>0.946</td>\n",
       "      <td>0.939</td>\n",
       "      <td>0.941</td>\n",
       "      <td>0.941</td>\n",
       "      <td>0.939</td>\n",
       "      <td>0.939</td>\n",
       "      <td>0.938</td>\n",
       "      <td>0.938</td>\n",
       "    </tr>\n",
       "    <tr>\n",
       "      <th>9</th>\n",
       "      <td>GBC</td>\n",
       "      <td>0.956</td>\n",
       "      <td>0.950</td>\n",
       "      <td>0.952</td>\n",
       "      <td>0.952</td>\n",
       "      <td>0.953</td>\n",
       "      <td>0.953</td>\n",
       "      <td>0.952</td>\n",
       "      <td>0.952</td>\n",
       "    </tr>\n",
       "    <tr>\n",
       "      <th>10</th>\n",
       "      <td>ETC</td>\n",
       "      <td>0.962</td>\n",
       "      <td>0.957</td>\n",
       "      <td>0.959</td>\n",
       "      <td>0.959</td>\n",
       "      <td>0.953</td>\n",
       "      <td>0.953</td>\n",
       "      <td>0.952</td>\n",
       "      <td>0.952</td>\n",
       "    </tr>\n",
       "    <tr>\n",
       "      <th>11</th>\n",
       "      <td>BC</td>\n",
       "      <td>0.960</td>\n",
       "      <td>0.955</td>\n",
       "      <td>0.956</td>\n",
       "      <td>0.957</td>\n",
       "      <td>0.953</td>\n",
       "      <td>0.953</td>\n",
       "      <td>0.952</td>\n",
       "      <td>0.952</td>\n",
       "    </tr>\n",
       "  </tbody>\n",
       "</table>\n",
       "</div>"
      ],
      "text/plain": [
       "   classifier  tr_precision  tr_recall  tr_f1   tr_accuracy  te_precision  \\\n",
       "0        LogR         0.930      0.923   0.925        0.926         0.918   \n",
       "1         gNB         0.897      0.858   0.862        0.867         0.885   \n",
       "2         SVM         0.948      0.943   0.944        0.945         0.953   \n",
       "3          DT         0.962      0.957   0.959        0.959         0.959   \n",
       "4          RF         0.960      0.955   0.956        0.957         0.958   \n",
       "5         KNN         0.929      0.917   0.920        0.921         0.929   \n",
       "6         LDA         0.935      0.926   0.928        0.929         0.919   \n",
       "7         mNB         0.874      0.869   0.870        0.872         0.866   \n",
       "8         ABC         0.946      0.939   0.941        0.941         0.939   \n",
       "9         GBC         0.956      0.950   0.952        0.952         0.953   \n",
       "10        ETC         0.962      0.957   0.959        0.959         0.953   \n",
       "11         BC         0.960      0.955   0.956        0.957         0.953   \n",
       "\n",
       "    te_recall  te_f1   te_accuracy  \n",
       "0       0.916   0.914        0.914  \n",
       "1       0.862   0.855        0.856  \n",
       "2       0.953   0.952        0.952  \n",
       "3       0.959   0.957        0.957  \n",
       "4       0.958   0.957        0.957  \n",
       "5       0.926   0.923        0.923  \n",
       "6       0.917   0.914        0.914  \n",
       "7       0.867   0.866        0.866  \n",
       "8       0.939   0.938        0.938  \n",
       "9       0.953   0.952        0.952  \n",
       "10      0.953   0.952        0.952  \n",
       "11      0.953   0.952        0.952  "
      ]
     },
     "execution_count": 301,
     "metadata": {},
     "output_type": "execute_result"
    }
   ],
   "source": [
    "df"
   ]
  },
  {
   "cell_type": "code",
   "execution_count": 278,
   "id": "285a8f03-ad2c-4c46-95de-b96f7eb06b1e",
   "metadata": {},
   "outputs": [],
   "source": [
    "df.to_csv(file_out, index=False)"
   ]
  },
  {
   "cell_type": "code",
   "execution_count": 114,
   "id": "5b5422a4-71fb-4fee-b632-9f652da3f108",
   "metadata": {},
   "outputs": [],
   "source": [
    "from sklearn.tree import DecisionTreeClassifier"
   ]
  },
  {
   "cell_type": "code",
   "execution_count": 115,
   "id": "1d9cc28a-41c3-401a-8519-43297164d00e",
   "metadata": {},
   "outputs": [],
   "source": [
    "clf1 = LogisticRegression(random_state=42)"
   ]
  },
  {
   "cell_type": "code",
   "execution_count": 116,
   "id": "d1c12d82-17b8-4385-a94b-83f967c39f3e",
   "metadata": {},
   "outputs": [
    {
     "data": {
      "text/html": [
       "<style>#sk-container-id-10 {color: black;}#sk-container-id-10 pre{padding: 0;}#sk-container-id-10 div.sk-toggleable {background-color: white;}#sk-container-id-10 label.sk-toggleable__label {cursor: pointer;display: block;width: 100%;margin-bottom: 0;padding: 0.3em;box-sizing: border-box;text-align: center;}#sk-container-id-10 label.sk-toggleable__label-arrow:before {content: \"▸\";float: left;margin-right: 0.25em;color: #696969;}#sk-container-id-10 label.sk-toggleable__label-arrow:hover:before {color: black;}#sk-container-id-10 div.sk-estimator:hover label.sk-toggleable__label-arrow:before {color: black;}#sk-container-id-10 div.sk-toggleable__content {max-height: 0;max-width: 0;overflow: hidden;text-align: left;background-color: #f0f8ff;}#sk-container-id-10 div.sk-toggleable__content pre {margin: 0.2em;color: black;border-radius: 0.25em;background-color: #f0f8ff;}#sk-container-id-10 input.sk-toggleable__control:checked~div.sk-toggleable__content {max-height: 200px;max-width: 100%;overflow: auto;}#sk-container-id-10 input.sk-toggleable__control:checked~label.sk-toggleable__label-arrow:before {content: \"▾\";}#sk-container-id-10 div.sk-estimator input.sk-toggleable__control:checked~label.sk-toggleable__label {background-color: #d4ebff;}#sk-container-id-10 div.sk-label input.sk-toggleable__control:checked~label.sk-toggleable__label {background-color: #d4ebff;}#sk-container-id-10 input.sk-hidden--visually {border: 0;clip: rect(1px 1px 1px 1px);clip: rect(1px, 1px, 1px, 1px);height: 1px;margin: -1px;overflow: hidden;padding: 0;position: absolute;width: 1px;}#sk-container-id-10 div.sk-estimator {font-family: monospace;background-color: #f0f8ff;border: 1px dotted black;border-radius: 0.25em;box-sizing: border-box;margin-bottom: 0.5em;}#sk-container-id-10 div.sk-estimator:hover {background-color: #d4ebff;}#sk-container-id-10 div.sk-parallel-item::after {content: \"\";width: 100%;border-bottom: 1px solid gray;flex-grow: 1;}#sk-container-id-10 div.sk-label:hover label.sk-toggleable__label {background-color: #d4ebff;}#sk-container-id-10 div.sk-serial::before {content: \"\";position: absolute;border-left: 1px solid gray;box-sizing: border-box;top: 0;bottom: 0;left: 50%;z-index: 0;}#sk-container-id-10 div.sk-serial {display: flex;flex-direction: column;align-items: center;background-color: white;padding-right: 0.2em;padding-left: 0.2em;position: relative;}#sk-container-id-10 div.sk-item {position: relative;z-index: 1;}#sk-container-id-10 div.sk-parallel {display: flex;align-items: stretch;justify-content: center;background-color: white;position: relative;}#sk-container-id-10 div.sk-item::before, #sk-container-id-10 div.sk-parallel-item::before {content: \"\";position: absolute;border-left: 1px solid gray;box-sizing: border-box;top: 0;bottom: 0;left: 50%;z-index: -1;}#sk-container-id-10 div.sk-parallel-item {display: flex;flex-direction: column;z-index: 1;position: relative;background-color: white;}#sk-container-id-10 div.sk-parallel-item:first-child::after {align-self: flex-end;width: 50%;}#sk-container-id-10 div.sk-parallel-item:last-child::after {align-self: flex-start;width: 50%;}#sk-container-id-10 div.sk-parallel-item:only-child::after {width: 0;}#sk-container-id-10 div.sk-dashed-wrapped {border: 1px dashed gray;margin: 0 0.4em 0.5em 0.4em;box-sizing: border-box;padding-bottom: 0.4em;background-color: white;}#sk-container-id-10 div.sk-label label {font-family: monospace;font-weight: bold;display: inline-block;line-height: 1.2em;}#sk-container-id-10 div.sk-label-container {text-align: center;}#sk-container-id-10 div.sk-container {/* jupyter's `normalize.less` sets `[hidden] { display: none; }` but bootstrap.min.css set `[hidden] { display: none !important; }` so we also need the `!important` here to be able to override the default hidden behavior on the sphinx rendered scikit-learn.org. See: https://github.com/scikit-learn/scikit-learn/issues/21755 */display: inline-block !important;position: relative;}#sk-container-id-10 div.sk-text-repr-fallback {display: none;}</style><div id=\"sk-container-id-10\" class=\"sk-top-container\"><div class=\"sk-text-repr-fallback\"><pre>LogisticRegression(random_state=42)</pre><b>In a Jupyter environment, please rerun this cell to show the HTML representation or trust the notebook. <br />On GitHub, the HTML representation is unable to render, please try loading this page with nbviewer.org.</b></div><div class=\"sk-container\" hidden><div class=\"sk-item\"><div class=\"sk-estimator sk-toggleable\"><input class=\"sk-toggleable__control sk-hidden--visually\" id=\"sk-estimator-id-28\" type=\"checkbox\" checked><label for=\"sk-estimator-id-28\" class=\"sk-toggleable__label sk-toggleable__label-arrow\">LogisticRegression</label><div class=\"sk-toggleable__content\"><pre>LogisticRegression(random_state=42)</pre></div></div></div></div></div>"
      ],
      "text/plain": [
       "LogisticRegression(random_state=42)"
      ]
     },
     "execution_count": 116,
     "metadata": {},
     "output_type": "execute_result"
    }
   ],
   "source": [
    "clf1.fit(X_train, y_train)"
   ]
  },
  {
   "cell_type": "code",
   "execution_count": 117,
   "id": "3d7147fe-c9ff-4122-9e68-8743174f26fc",
   "metadata": {},
   "outputs": [],
   "source": [
    "y_pred = clf1.predict(X_test)"
   ]
  },
  {
   "cell_type": "code",
   "execution_count": 118,
   "id": "d1d915b7-3b03-4665-9211-326d7afcf47d",
   "metadata": {},
   "outputs": [],
   "source": [
    "y_pred_train = clf1.predict(X_train)"
   ]
  },
  {
   "cell_type": "code",
   "execution_count": 119,
   "id": "892798ad-c02d-4d0f-8ad5-bdafeed857e2",
   "metadata": {},
   "outputs": [],
   "source": [
    "from sklearn.metrics import precision_score, recall_score, f1_score, confusion_matrix\n"
   ]
  },
  {
   "cell_type": "code",
   "execution_count": 120,
   "id": "8f4a42f5-401f-47f8-84a5-8d4c0a760b0c",
   "metadata": {},
   "outputs": [],
   "source": [
    "precision = precision_score(y_train, y_pred_train)\n",
    "recall = recall_score(y_train, y_pred_train)\n",
    "f1 = f1_score(y_train, y_pred_train)"
   ]
  },
  {
   "cell_type": "code",
   "execution_count": 121,
   "id": "8149fee7-d778-4805-94cc-29162a904a45",
   "metadata": {},
   "outputs": [
    {
     "name": "stdout",
     "output_type": "stream",
     "text": [
      "Precision: 1.0\n",
      "Recall: 0.9444444444444444\n",
      "F1 Score: 0.9714285714285714\n"
     ]
    }
   ],
   "source": [
    "print(f'Precision: {precision}')\n",
    "print(f'Recall: {recall}')\n",
    "print(f'F1 Score: {f1}')"
   ]
  },
  {
   "cell_type": "code",
   "execution_count": 122,
   "id": "9274c371-7d33-4768-897c-13956cd9357b",
   "metadata": {},
   "outputs": [],
   "source": [
    "precision = precision_score(y_test, y_pred)\n",
    "recall = recall_score(y_test, y_pred)\n",
    "f1 = f1_score(y_test, y_pred)"
   ]
  },
  {
   "cell_type": "code",
   "execution_count": 123,
   "id": "f199c828-7897-4ae0-a80f-f6faaab809c0",
   "metadata": {},
   "outputs": [],
   "source": [
    "clf2 = RandomForestClassifier(n_estimators=100, random_state=42)"
   ]
  },
  {
   "cell_type": "code",
   "execution_count": 124,
   "id": "44802ad6-134e-4390-8a79-3210cde7ada1",
   "metadata": {},
   "outputs": [
    {
     "name": "stdout",
     "output_type": "stream",
     "text": [
      "Precision: 1.0\n",
      "Recall: 0.7142857142857143\n",
      "F1 Score: 0.8333333333333333\n",
      "Confusion Matrix:\n",
      "[[3 0]\n",
      " [2 5]]\n"
     ]
    }
   ],
   "source": [
    "print(f'Precision: {precision}')\n",
    "print(f'Recall: {recall}')\n",
    "print(f'F1 Score: {f1}')\n",
    "\n",
    "# Additionally, you can print the confusion matrix\n",
    "conf_matrix = confusion_matrix(y_test, y_pred)\n",
    "print('Confusion Matrix:')\n",
    "print(conf_matrix)"
   ]
  },
  {
   "cell_type": "code",
   "execution_count": 125,
   "id": "8fb5364c-f580-4cf7-b4b2-5f4ae8c738d5",
   "metadata": {},
   "outputs": [],
   "source": [
    "clf3 = SVC(probability=True, random_state=42)\n",
    "voting_classifier = VotingClassifier(estimators=[('lr', clf1), ('dt', clf2), ('svc', clf3)], voting='soft')"
   ]
  },
  {
   "cell_type": "code",
   "execution_count": 126,
   "id": "ae359807-1c70-4060-bb18-80047f6ebe39",
   "metadata": {},
   "outputs": [
    {
     "data": {
      "text/html": [
       "<style>#sk-container-id-11 {color: black;}#sk-container-id-11 pre{padding: 0;}#sk-container-id-11 div.sk-toggleable {background-color: white;}#sk-container-id-11 label.sk-toggleable__label {cursor: pointer;display: block;width: 100%;margin-bottom: 0;padding: 0.3em;box-sizing: border-box;text-align: center;}#sk-container-id-11 label.sk-toggleable__label-arrow:before {content: \"▸\";float: left;margin-right: 0.25em;color: #696969;}#sk-container-id-11 label.sk-toggleable__label-arrow:hover:before {color: black;}#sk-container-id-11 div.sk-estimator:hover label.sk-toggleable__label-arrow:before {color: black;}#sk-container-id-11 div.sk-toggleable__content {max-height: 0;max-width: 0;overflow: hidden;text-align: left;background-color: #f0f8ff;}#sk-container-id-11 div.sk-toggleable__content pre {margin: 0.2em;color: black;border-radius: 0.25em;background-color: #f0f8ff;}#sk-container-id-11 input.sk-toggleable__control:checked~div.sk-toggleable__content {max-height: 200px;max-width: 100%;overflow: auto;}#sk-container-id-11 input.sk-toggleable__control:checked~label.sk-toggleable__label-arrow:before {content: \"▾\";}#sk-container-id-11 div.sk-estimator input.sk-toggleable__control:checked~label.sk-toggleable__label {background-color: #d4ebff;}#sk-container-id-11 div.sk-label input.sk-toggleable__control:checked~label.sk-toggleable__label {background-color: #d4ebff;}#sk-container-id-11 input.sk-hidden--visually {border: 0;clip: rect(1px 1px 1px 1px);clip: rect(1px, 1px, 1px, 1px);height: 1px;margin: -1px;overflow: hidden;padding: 0;position: absolute;width: 1px;}#sk-container-id-11 div.sk-estimator {font-family: monospace;background-color: #f0f8ff;border: 1px dotted black;border-radius: 0.25em;box-sizing: border-box;margin-bottom: 0.5em;}#sk-container-id-11 div.sk-estimator:hover {background-color: #d4ebff;}#sk-container-id-11 div.sk-parallel-item::after {content: \"\";width: 100%;border-bottom: 1px solid gray;flex-grow: 1;}#sk-container-id-11 div.sk-label:hover label.sk-toggleable__label {background-color: #d4ebff;}#sk-container-id-11 div.sk-serial::before {content: \"\";position: absolute;border-left: 1px solid gray;box-sizing: border-box;top: 0;bottom: 0;left: 50%;z-index: 0;}#sk-container-id-11 div.sk-serial {display: flex;flex-direction: column;align-items: center;background-color: white;padding-right: 0.2em;padding-left: 0.2em;position: relative;}#sk-container-id-11 div.sk-item {position: relative;z-index: 1;}#sk-container-id-11 div.sk-parallel {display: flex;align-items: stretch;justify-content: center;background-color: white;position: relative;}#sk-container-id-11 div.sk-item::before, #sk-container-id-11 div.sk-parallel-item::before {content: \"\";position: absolute;border-left: 1px solid gray;box-sizing: border-box;top: 0;bottom: 0;left: 50%;z-index: -1;}#sk-container-id-11 div.sk-parallel-item {display: flex;flex-direction: column;z-index: 1;position: relative;background-color: white;}#sk-container-id-11 div.sk-parallel-item:first-child::after {align-self: flex-end;width: 50%;}#sk-container-id-11 div.sk-parallel-item:last-child::after {align-self: flex-start;width: 50%;}#sk-container-id-11 div.sk-parallel-item:only-child::after {width: 0;}#sk-container-id-11 div.sk-dashed-wrapped {border: 1px dashed gray;margin: 0 0.4em 0.5em 0.4em;box-sizing: border-box;padding-bottom: 0.4em;background-color: white;}#sk-container-id-11 div.sk-label label {font-family: monospace;font-weight: bold;display: inline-block;line-height: 1.2em;}#sk-container-id-11 div.sk-label-container {text-align: center;}#sk-container-id-11 div.sk-container {/* jupyter's `normalize.less` sets `[hidden] { display: none; }` but bootstrap.min.css set `[hidden] { display: none !important; }` so we also need the `!important` here to be able to override the default hidden behavior on the sphinx rendered scikit-learn.org. See: https://github.com/scikit-learn/scikit-learn/issues/21755 */display: inline-block !important;position: relative;}#sk-container-id-11 div.sk-text-repr-fallback {display: none;}</style><div id=\"sk-container-id-11\" class=\"sk-top-container\"><div class=\"sk-text-repr-fallback\"><pre>VotingClassifier(estimators=[(&#x27;lr&#x27;, LogisticRegression(random_state=42)),\n",
       "                             (&#x27;dt&#x27;, RandomForestClassifier(random_state=42)),\n",
       "                             (&#x27;svc&#x27;, SVC(probability=True, random_state=42))],\n",
       "                 voting=&#x27;soft&#x27;)</pre><b>In a Jupyter environment, please rerun this cell to show the HTML representation or trust the notebook. <br />On GitHub, the HTML representation is unable to render, please try loading this page with nbviewer.org.</b></div><div class=\"sk-container\" hidden><div class=\"sk-item sk-dashed-wrapped\"><div class=\"sk-label-container\"><div class=\"sk-label sk-toggleable\"><input class=\"sk-toggleable__control sk-hidden--visually\" id=\"sk-estimator-id-29\" type=\"checkbox\" ><label for=\"sk-estimator-id-29\" class=\"sk-toggleable__label sk-toggleable__label-arrow\">VotingClassifier</label><div class=\"sk-toggleable__content\"><pre>VotingClassifier(estimators=[(&#x27;lr&#x27;, LogisticRegression(random_state=42)),\n",
       "                             (&#x27;dt&#x27;, RandomForestClassifier(random_state=42)),\n",
       "                             (&#x27;svc&#x27;, SVC(probability=True, random_state=42))],\n",
       "                 voting=&#x27;soft&#x27;)</pre></div></div></div><div class=\"sk-parallel\"><div class=\"sk-parallel-item\"><div class=\"sk-item\"><div class=\"sk-label-container\"><div class=\"sk-label sk-toggleable\"><label>lr</label></div></div><div class=\"sk-serial\"><div class=\"sk-item\"><div class=\"sk-estimator sk-toggleable\"><input class=\"sk-toggleable__control sk-hidden--visually\" id=\"sk-estimator-id-30\" type=\"checkbox\" ><label for=\"sk-estimator-id-30\" class=\"sk-toggleable__label sk-toggleable__label-arrow\">LogisticRegression</label><div class=\"sk-toggleable__content\"><pre>LogisticRegression(random_state=42)</pre></div></div></div></div></div></div><div class=\"sk-parallel-item\"><div class=\"sk-item\"><div class=\"sk-label-container\"><div class=\"sk-label sk-toggleable\"><label>dt</label></div></div><div class=\"sk-serial\"><div class=\"sk-item\"><div class=\"sk-estimator sk-toggleable\"><input class=\"sk-toggleable__control sk-hidden--visually\" id=\"sk-estimator-id-31\" type=\"checkbox\" ><label for=\"sk-estimator-id-31\" class=\"sk-toggleable__label sk-toggleable__label-arrow\">RandomForestClassifier</label><div class=\"sk-toggleable__content\"><pre>RandomForestClassifier(random_state=42)</pre></div></div></div></div></div></div><div class=\"sk-parallel-item\"><div class=\"sk-item\"><div class=\"sk-label-container\"><div class=\"sk-label sk-toggleable\"><label>svc</label></div></div><div class=\"sk-serial\"><div class=\"sk-item\"><div class=\"sk-estimator sk-toggleable\"><input class=\"sk-toggleable__control sk-hidden--visually\" id=\"sk-estimator-id-32\" type=\"checkbox\" ><label for=\"sk-estimator-id-32\" class=\"sk-toggleable__label sk-toggleable__label-arrow\">SVC</label><div class=\"sk-toggleable__content\"><pre>SVC(probability=True, random_state=42)</pre></div></div></div></div></div></div></div></div></div></div>"
      ],
      "text/plain": [
       "VotingClassifier(estimators=[('lr', LogisticRegression(random_state=42)),\n",
       "                             ('dt', RandomForestClassifier(random_state=42)),\n",
       "                             ('svc', SVC(probability=True, random_state=42))],\n",
       "                 voting='soft')"
      ]
     },
     "execution_count": 126,
     "metadata": {},
     "output_type": "execute_result"
    }
   ],
   "source": [
    "voting_classifier.fit(X_train, y_train)"
   ]
  },
  {
   "cell_type": "code",
   "execution_count": 127,
   "id": "476edd32-1219-4d8d-922e-3dbd47fc5058",
   "metadata": {},
   "outputs": [],
   "source": [
    "y_pred = voting_classifier.predict(X_test)"
   ]
  },
  {
   "cell_type": "code",
   "execution_count": 128,
   "id": "ae254e56-90e7-4e49-8bbf-51801546b07d",
   "metadata": {},
   "outputs": [],
   "source": [
    "from sklearn.metrics import f1_score"
   ]
  },
  {
   "cell_type": "code",
   "execution_count": 129,
   "id": "9c362b0a-5f34-4f06-bfe2-cc4fff76e6e3",
   "metadata": {},
   "outputs": [
    {
     "name": "stdout",
     "output_type": "stream",
     "text": [
      "Precision: 1.0\n",
      "Recall: 0.9444444444444444\n",
      "F1 Score: 0.9714285714285714\n"
     ]
    }
   ],
   "source": [
    "precision = precision_score(y_train, y_pred_train)\n",
    "recall = recall_score(y_train, y_pred_train)\n",
    "f1 = f1_score(y_train, y_pred_train)\n",
    "\n",
    "print(f'Precision: {precision}')\n",
    "print(f'Recall: {recall}')\n",
    "print(f'F1 Score: {f1}')"
   ]
  },
  {
   "cell_type": "code",
   "execution_count": 130,
   "id": "ec490e6b-1185-40f7-8356-024153a0e65a",
   "metadata": {},
   "outputs": [
    {
     "name": "stdout",
     "output_type": "stream",
     "text": [
      "Precision: 1.0\n",
      "Recall: 0.7142857142857143\n",
      "F1 Score: 0.8333333333333333\n"
     ]
    }
   ],
   "source": [
    "precision = precision_score(y_test, y_pred)\n",
    "recall = recall_score(y_test, y_pred)\n",
    "f1 = f1_score(y_test, y_pred)\n",
    "\n",
    "print(f'Precision: {precision}')\n",
    "print(f'Recall: {recall}')\n",
    "print(f'F1 Score: {f1}')"
   ]
  },
  {
   "cell_type": "markdown",
   "id": "b9f47bbf-f3c7-49a2-a219-e723e9c6a506",
   "metadata": {},
   "source": [
    "## Combine models in Voting Classifier"
   ]
  },
  {
   "cell_type": "code",
   "execution_count": 131,
   "id": "4c3e33e9-5a5e-42ee-80da-6839a5b3daf6",
   "metadata": {},
   "outputs": [],
   "source": [
    "ensemble_model = VotingClassifier(estimators=[\n",
    "    ('lr', clf1), ('rf', clf2), ('svc', clf3)\n",
    "],voting='soft')"
   ]
  },
  {
   "cell_type": "code",
   "execution_count": 132,
   "id": "266d0898-7052-4b95-8b90-280f75b1a33d",
   "metadata": {},
   "outputs": [
    {
     "data": {
      "text/html": [
       "<style>#sk-container-id-12 {color: black;}#sk-container-id-12 pre{padding: 0;}#sk-container-id-12 div.sk-toggleable {background-color: white;}#sk-container-id-12 label.sk-toggleable__label {cursor: pointer;display: block;width: 100%;margin-bottom: 0;padding: 0.3em;box-sizing: border-box;text-align: center;}#sk-container-id-12 label.sk-toggleable__label-arrow:before {content: \"▸\";float: left;margin-right: 0.25em;color: #696969;}#sk-container-id-12 label.sk-toggleable__label-arrow:hover:before {color: black;}#sk-container-id-12 div.sk-estimator:hover label.sk-toggleable__label-arrow:before {color: black;}#sk-container-id-12 div.sk-toggleable__content {max-height: 0;max-width: 0;overflow: hidden;text-align: left;background-color: #f0f8ff;}#sk-container-id-12 div.sk-toggleable__content pre {margin: 0.2em;color: black;border-radius: 0.25em;background-color: #f0f8ff;}#sk-container-id-12 input.sk-toggleable__control:checked~div.sk-toggleable__content {max-height: 200px;max-width: 100%;overflow: auto;}#sk-container-id-12 input.sk-toggleable__control:checked~label.sk-toggleable__label-arrow:before {content: \"▾\";}#sk-container-id-12 div.sk-estimator input.sk-toggleable__control:checked~label.sk-toggleable__label {background-color: #d4ebff;}#sk-container-id-12 div.sk-label input.sk-toggleable__control:checked~label.sk-toggleable__label {background-color: #d4ebff;}#sk-container-id-12 input.sk-hidden--visually {border: 0;clip: rect(1px 1px 1px 1px);clip: rect(1px, 1px, 1px, 1px);height: 1px;margin: -1px;overflow: hidden;padding: 0;position: absolute;width: 1px;}#sk-container-id-12 div.sk-estimator {font-family: monospace;background-color: #f0f8ff;border: 1px dotted black;border-radius: 0.25em;box-sizing: border-box;margin-bottom: 0.5em;}#sk-container-id-12 div.sk-estimator:hover {background-color: #d4ebff;}#sk-container-id-12 div.sk-parallel-item::after {content: \"\";width: 100%;border-bottom: 1px solid gray;flex-grow: 1;}#sk-container-id-12 div.sk-label:hover label.sk-toggleable__label {background-color: #d4ebff;}#sk-container-id-12 div.sk-serial::before {content: \"\";position: absolute;border-left: 1px solid gray;box-sizing: border-box;top: 0;bottom: 0;left: 50%;z-index: 0;}#sk-container-id-12 div.sk-serial {display: flex;flex-direction: column;align-items: center;background-color: white;padding-right: 0.2em;padding-left: 0.2em;position: relative;}#sk-container-id-12 div.sk-item {position: relative;z-index: 1;}#sk-container-id-12 div.sk-parallel {display: flex;align-items: stretch;justify-content: center;background-color: white;position: relative;}#sk-container-id-12 div.sk-item::before, #sk-container-id-12 div.sk-parallel-item::before {content: \"\";position: absolute;border-left: 1px solid gray;box-sizing: border-box;top: 0;bottom: 0;left: 50%;z-index: -1;}#sk-container-id-12 div.sk-parallel-item {display: flex;flex-direction: column;z-index: 1;position: relative;background-color: white;}#sk-container-id-12 div.sk-parallel-item:first-child::after {align-self: flex-end;width: 50%;}#sk-container-id-12 div.sk-parallel-item:last-child::after {align-self: flex-start;width: 50%;}#sk-container-id-12 div.sk-parallel-item:only-child::after {width: 0;}#sk-container-id-12 div.sk-dashed-wrapped {border: 1px dashed gray;margin: 0 0.4em 0.5em 0.4em;box-sizing: border-box;padding-bottom: 0.4em;background-color: white;}#sk-container-id-12 div.sk-label label {font-family: monospace;font-weight: bold;display: inline-block;line-height: 1.2em;}#sk-container-id-12 div.sk-label-container {text-align: center;}#sk-container-id-12 div.sk-container {/* jupyter's `normalize.less` sets `[hidden] { display: none; }` but bootstrap.min.css set `[hidden] { display: none !important; }` so we also need the `!important` here to be able to override the default hidden behavior on the sphinx rendered scikit-learn.org. See: https://github.com/scikit-learn/scikit-learn/issues/21755 */display: inline-block !important;position: relative;}#sk-container-id-12 div.sk-text-repr-fallback {display: none;}</style><div id=\"sk-container-id-12\" class=\"sk-top-container\"><div class=\"sk-text-repr-fallback\"><pre>VotingClassifier(estimators=[(&#x27;lr&#x27;, LogisticRegression(random_state=42)),\n",
       "                             (&#x27;rf&#x27;, RandomForestClassifier(random_state=42)),\n",
       "                             (&#x27;svc&#x27;, SVC(probability=True, random_state=42))],\n",
       "                 voting=&#x27;soft&#x27;)</pre><b>In a Jupyter environment, please rerun this cell to show the HTML representation or trust the notebook. <br />On GitHub, the HTML representation is unable to render, please try loading this page with nbviewer.org.</b></div><div class=\"sk-container\" hidden><div class=\"sk-item sk-dashed-wrapped\"><div class=\"sk-label-container\"><div class=\"sk-label sk-toggleable\"><input class=\"sk-toggleable__control sk-hidden--visually\" id=\"sk-estimator-id-33\" type=\"checkbox\" ><label for=\"sk-estimator-id-33\" class=\"sk-toggleable__label sk-toggleable__label-arrow\">VotingClassifier</label><div class=\"sk-toggleable__content\"><pre>VotingClassifier(estimators=[(&#x27;lr&#x27;, LogisticRegression(random_state=42)),\n",
       "                             (&#x27;rf&#x27;, RandomForestClassifier(random_state=42)),\n",
       "                             (&#x27;svc&#x27;, SVC(probability=True, random_state=42))],\n",
       "                 voting=&#x27;soft&#x27;)</pre></div></div></div><div class=\"sk-parallel\"><div class=\"sk-parallel-item\"><div class=\"sk-item\"><div class=\"sk-label-container\"><div class=\"sk-label sk-toggleable\"><label>lr</label></div></div><div class=\"sk-serial\"><div class=\"sk-item\"><div class=\"sk-estimator sk-toggleable\"><input class=\"sk-toggleable__control sk-hidden--visually\" id=\"sk-estimator-id-34\" type=\"checkbox\" ><label for=\"sk-estimator-id-34\" class=\"sk-toggleable__label sk-toggleable__label-arrow\">LogisticRegression</label><div class=\"sk-toggleable__content\"><pre>LogisticRegression(random_state=42)</pre></div></div></div></div></div></div><div class=\"sk-parallel-item\"><div class=\"sk-item\"><div class=\"sk-label-container\"><div class=\"sk-label sk-toggleable\"><label>rf</label></div></div><div class=\"sk-serial\"><div class=\"sk-item\"><div class=\"sk-estimator sk-toggleable\"><input class=\"sk-toggleable__control sk-hidden--visually\" id=\"sk-estimator-id-35\" type=\"checkbox\" ><label for=\"sk-estimator-id-35\" class=\"sk-toggleable__label sk-toggleable__label-arrow\">RandomForestClassifier</label><div class=\"sk-toggleable__content\"><pre>RandomForestClassifier(random_state=42)</pre></div></div></div></div></div></div><div class=\"sk-parallel-item\"><div class=\"sk-item\"><div class=\"sk-label-container\"><div class=\"sk-label sk-toggleable\"><label>svc</label></div></div><div class=\"sk-serial\"><div class=\"sk-item\"><div class=\"sk-estimator sk-toggleable\"><input class=\"sk-toggleable__control sk-hidden--visually\" id=\"sk-estimator-id-36\" type=\"checkbox\" ><label for=\"sk-estimator-id-36\" class=\"sk-toggleable__label sk-toggleable__label-arrow\">SVC</label><div class=\"sk-toggleable__content\"><pre>SVC(probability=True, random_state=42)</pre></div></div></div></div></div></div></div></div></div></div>"
      ],
      "text/plain": [
       "VotingClassifier(estimators=[('lr', LogisticRegression(random_state=42)),\n",
       "                             ('rf', RandomForestClassifier(random_state=42)),\n",
       "                             ('svc', SVC(probability=True, random_state=42))],\n",
       "                 voting='soft')"
      ]
     },
     "execution_count": 132,
     "metadata": {},
     "output_type": "execute_result"
    }
   ],
   "source": [
    "ensemble_model.fit(X_train, y_train)"
   ]
  },
  {
   "cell_type": "markdown",
   "id": "b4586b00-f1a1-4908-9795-62916a08c44a",
   "metadata": {},
   "source": [
    "## Evaluate the model"
   ]
  },
  {
   "cell_type": "code",
   "execution_count": 133,
   "id": "f5208ae0-6110-4d06-83e8-a080c89a118d",
   "metadata": {},
   "outputs": [],
   "source": [
    "accuracy = ensemble_model.score(X_test, y_test)"
   ]
  },
  {
   "cell_type": "code",
   "execution_count": 134,
   "id": "b6ec7c99-81b7-4f69-b1aa-533a0a2eb657",
   "metadata": {},
   "outputs": [
    {
     "data": {
      "text/plain": [
       "0.8"
      ]
     },
     "execution_count": 134,
     "metadata": {},
     "output_type": "execute_result"
    }
   ],
   "source": [
    "accuracy"
   ]
  },
  {
   "cell_type": "code",
   "execution_count": 135,
   "id": "f8a7051d-ff63-46b9-93a6-ef06b8109d52",
   "metadata": {},
   "outputs": [],
   "source": [
    "from sklearn.metrics import precision_score"
   ]
  },
  {
   "cell_type": "code",
   "execution_count": 136,
   "id": "9bf98c11-47f0-45b5-b6e9-0b66b9597fe7",
   "metadata": {},
   "outputs": [],
   "source": [
    "from sklearn.ensemble import VotingClassifier"
   ]
  },
  {
   "cell_type": "code",
   "execution_count": 137,
   "id": "21c849d4-c829-4a33-b78b-af43c48bbf72",
   "metadata": {},
   "outputs": [],
   "source": [
    "y_pred = voting_classifier.predict(X_test)"
   ]
  },
  {
   "cell_type": "code",
   "execution_count": 138,
   "id": "411c0380-4069-4b2a-bd32-315fef23b525",
   "metadata": {},
   "outputs": [
    {
     "data": {
      "text/plain": [
       "array([0, 0, 0, 1, 0, 1, 1, 1, 1, 0])"
      ]
     },
     "execution_count": 138,
     "metadata": {},
     "output_type": "execute_result"
    }
   ],
   "source": [
    "y_pred"
   ]
  },
  {
   "cell_type": "code",
   "execution_count": null,
   "id": "13b56162-4769-49b3-a9ec-570e57a1fd48",
   "metadata": {},
   "outputs": [],
   "source": []
  },
  {
   "cell_type": "code",
   "execution_count": null,
   "id": "3ba5d787-dc96-43fa-83f5-9974f510185f",
   "metadata": {},
   "outputs": [],
   "source": []
  }
 ],
 "metadata": {
  "kernelspec": {
   "display_name": "Python 3 (ipykernel)",
   "language": "python",
   "name": "python3"
  },
  "language_info": {
   "codemirror_mode": {
    "name": "ipython",
    "version": 3
   },
   "file_extension": ".py",
   "mimetype": "text/x-python",
   "name": "python",
   "nbconvert_exporter": "python",
   "pygments_lexer": "ipython3",
   "version": "3.11.4"
  }
 },
 "nbformat": 4,
 "nbformat_minor": 5
}
