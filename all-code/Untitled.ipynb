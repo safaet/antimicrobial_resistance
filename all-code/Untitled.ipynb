{
 "cells": [
  {
   "cell_type": "code",
   "execution_count": 6,
   "id": "3c9263dc-6a4f-4d49-8968-f64315677c6b",
   "metadata": {},
   "outputs": [],
   "source": [
    "import pandas as pd"
   ]
  },
  {
   "cell_type": "code",
   "execution_count": 3,
   "id": "068c12ae-18be-421d-a98e-51bca6d43d7b",
   "metadata": {},
   "outputs": [],
   "source": [
    "dataset2_feat_path = \"https://raw.githubusercontent.com/DaneshMoradigaravand/PanPred/master/test_data/curated_input_GY.csv\"\n",
    "dataset2_class_path = \"https://raw.githubusercontent.com/DaneshMoradigaravand/PanPred/master/test_data/Metadata.csv\""
   ]
  },
  {
   "cell_type": "code",
   "execution_count": 7,
   "id": "aca964e3-b338-4c4d-86e8-cc3fdd5860d4",
   "metadata": {},
   "outputs": [],
   "source": [
    "def read_dataset2(antiB_name = 'CTZ'):\n",
    "  df = pd.read_csv(dataset2_feat_path)\n",
    "  dfy = pd.read_csv(dataset2_class_path)\n",
    "  \n",
    "  df[antiB_name] = dfy[antiB_name].to_frame()\n",
    "  df = df.dropna()\n",
    "\n",
    "  # Getting Prediction column\n",
    "  y = df.pop(df.columns[-1])\n",
    "  # Getting features\n",
    "  X = df.iloc[:, 3:]\n",
    "  y.replace({'S': 0, 'R': 1}, inplace = True)\n",
    "  return df, X, y"
   ]
  },
  {
   "cell_type": "code",
   "execution_count": 8,
   "id": "a7614a89-e82f-454c-85ac-253b919f677e",
   "metadata": {},
   "outputs": [
    {
     "data": {
      "text/plain": [
       "(      Unnamed: 0  AMX    Year  yeiU  yhhS  ybaE  eutR  ibrB  ytfP  aslB  ...  \\\n",
       " 23    11657_5#31  1.0  2002.0     1     1     1     1     1     1     1  ...   \n",
       " 24    11657_5#32  1.0  2002.0     1     1     1     1     1     1     1  ...   \n",
       " 25    11657_5#33  0.0  2002.0     1     1     1     1     1     1     1  ...   \n",
       " 26    11657_5#34  1.0  2002.0     1     1     1     1     1     1     1  ...   \n",
       " 27    11657_5#35  1.0  2002.0     1     1     1     1     1     1     1  ...   \n",
       " ...          ...  ...     ...   ...   ...   ...   ...   ...   ...   ...  ...   \n",
       " 1504  12045_3#63  1.0  2004.0     1     1     1     1     1     1     1  ...   \n",
       " 1505  12045_3#64  1.0  2004.0     1     1     1     1     1     1     1  ...   \n",
       " 1506  12045_3#65  0.0  2007.0     1     1     1     1     1     1     1  ...   \n",
       " 1507  12045_3#66  1.0  2002.0     1     1     1     1     1     1     1  ...   \n",
       " 1508  12045_3#67  0.0  2002.0     1     1     1     1     1     1     1  ...   \n",
       " \n",
       "       group_48768  group_48873  group_48916  group_48933  group_48937  \\\n",
       " 23              0            0            0            0            0   \n",
       " 24              0            0            0            0            0   \n",
       " 25              0            0            0            0            0   \n",
       " 26              0            0            0            0            0   \n",
       " 27              0            0            0            0            0   \n",
       " ...           ...          ...          ...          ...          ...   \n",
       " 1504            0            0            0            0            0   \n",
       " 1505            0            0            0            0            0   \n",
       " 1506            0            0            0            0            0   \n",
       " 1507            0            0            0            0            0   \n",
       " 1508            0            0            0            0            0   \n",
       " \n",
       "       group_48958  group_49020  group_49174  group_49253  group_49257  \n",
       " 23              0            0            0            0            0  \n",
       " 24              0            0            0            0            0  \n",
       " 25              0            0            0            0            0  \n",
       " 26              0            0            0            0            0  \n",
       " 27              0            0            0            0            0  \n",
       " ...           ...          ...          ...          ...          ...  \n",
       " 1504            0            0            0            0            0  \n",
       " 1505            0            0            0            0            0  \n",
       " 1506            0            0            0            0            0  \n",
       " 1507            0            0            0            0            0  \n",
       " 1508            0            0            0            0            0  \n",
       " \n",
       " [1018 rows x 17201 columns],\n",
       "       yeiU  yhhS  ybaE  eutR  ibrB  ytfP  aslB  narQ  tolR  galM  ...  \\\n",
       " 23       1     1     1     1     1     1     1     1     1     1  ...   \n",
       " 24       1     1     1     1     1     1     1     1     1     1  ...   \n",
       " 25       1     1     1     1     1     1     1     1     1     1  ...   \n",
       " 26       1     1     1     1     1     1     1     1     1     1  ...   \n",
       " 27       1     1     1     1     1     1     1     1     1     1  ...   \n",
       " ...    ...   ...   ...   ...   ...   ...   ...   ...   ...   ...  ...   \n",
       " 1504     1     1     1     1     1     1     1     1     1     1  ...   \n",
       " 1505     1     1     1     1     1     1     1     1     1     1  ...   \n",
       " 1506     1     1     1     1     1     1     1     1     1     1  ...   \n",
       " 1507     1     1     1     1     1     1     1     1     1     1  ...   \n",
       " 1508     1     1     1     1     1     1     1     1     1     1  ...   \n",
       " \n",
       "       group_48768  group_48873  group_48916  group_48933  group_48937  \\\n",
       " 23              0            0            0            0            0   \n",
       " 24              0            0            0            0            0   \n",
       " 25              0            0            0            0            0   \n",
       " 26              0            0            0            0            0   \n",
       " 27              0            0            0            0            0   \n",
       " ...           ...          ...          ...          ...          ...   \n",
       " 1504            0            0            0            0            0   \n",
       " 1505            0            0            0            0            0   \n",
       " 1506            0            0            0            0            0   \n",
       " 1507            0            0            0            0            0   \n",
       " 1508            0            0            0            0            0   \n",
       " \n",
       "       group_48958  group_49020  group_49174  group_49253  group_49257  \n",
       " 23              0            0            0            0            0  \n",
       " 24              0            0            0            0            0  \n",
       " 25              0            0            0            0            0  \n",
       " 26              0            0            0            0            0  \n",
       " 27              0            0            0            0            0  \n",
       " ...           ...          ...          ...          ...          ...  \n",
       " 1504            0            0            0            0            0  \n",
       " 1505            0            0            0            0            0  \n",
       " 1506            0            0            0            0            0  \n",
       " 1507            0            0            0            0            0  \n",
       " 1508            0            0            0            0            0  \n",
       " \n",
       " [1018 rows x 17198 columns],\n",
       " 23      0\n",
       " 24      0\n",
       " 25      0\n",
       " 26      0\n",
       " 27      0\n",
       "        ..\n",
       " 1504    0\n",
       " 1505    0\n",
       " 1506    0\n",
       " 1507    0\n",
       " 1508    0\n",
       " Name: CTX, Length: 1018, dtype: int64)"
      ]
     },
     "execution_count": 8,
     "metadata": {},
     "output_type": "execute_result"
    }
   ],
   "source": [
    "read_dataset2('CTX')"
   ]
  },
  {
   "cell_type": "code",
   "execution_count": 9,
   "id": "86d04b13-3297-4388-86ca-aa587e20b797",
   "metadata": {},
   "outputs": [],
   "source": [
    "df = pd.read_csv(dataset2_feat_path)\n",
    "dfy = pd.read_csv(dataset2_class_path)"
   ]
  },
  {
   "cell_type": "code",
   "execution_count": null,
   "id": "a3cff4f1-7f98-40fb-b85e-a56cfd222f7d",
   "metadata": {},
   "outputs": [],
   "source": [
    "df[antiB_name] = dfy[antiB_name].to_frame()\n",
    "df = df.dropna()"
   ]
  },
  {
   "cell_type": "code",
   "execution_count": null,
   "id": "4c8424bf-21fa-4587-bffe-e0fda0c477e4",
   "metadata": {},
   "outputs": [],
   "source": []
  }
 ],
 "metadata": {
  "kernelspec": {
   "display_name": "Python 3 (ipykernel)",
   "language": "python",
   "name": "python3"
  },
  "language_info": {
   "codemirror_mode": {
    "name": "ipython",
    "version": 3
   },
   "file_extension": ".py",
   "mimetype": "text/x-python",
   "name": "python",
   "nbconvert_exporter": "python",
   "pygments_lexer": "ipython3",
   "version": "3.11.4"
  }
 },
 "nbformat": 4,
 "nbformat_minor": 5
}
